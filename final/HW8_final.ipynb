{
 "cells": [
  {
   "cell_type": "code",
   "execution_count": 1,
   "metadata": {
    "id": "5Aur99NsC4Jm",
    "outputId": "9b9a338b-a52f-4253-9694-ac431b62eefc"
   },
   "outputs": [],
   "source": [
    "import pandas as pd\n",
    "import numpy as np\n",
    "import matplotlib.pyplot as plt\n",
    "import seaborn as sns\n",
    "%matplotlib inline\n",
    "\n",
    "# Для работы с матрицами\n",
    "from scipy.sparse import csr_matrix\n",
    "\n",
    "# Матричная факторизация\n",
    "from implicit import als\n",
    "\n",
    "# Модель второго уровня\n",
    "from lightgbm import LGBMClassifier\n",
    "from catboost import CatBoostClassifier\n",
    "\n",
    "import os, sys\n",
    "module_path = os.path.abspath(os.path.join(os.pardir))\n",
    "if module_path not in sys.path:\n",
    "    sys.path.append(module_path)\n",
    "\n",
    "# Написанные нами функции\n",
    "from src.metrics import precision_at_k, recall_at_k, model_metrics\n",
    "from src.utils import prefilter_items, get_candidates, get_base_dataset, add_features, get_model_recs\n",
    "from src.recommenders import MainRecommender\n",
    "\n",
    "from sklearn.model_selection import RepeatedStratifiedKFold, GridSearchCV, RandomizedSearchCV\n",
    "from sklearn.impute import SimpleImputer"
   ]
  },
  {
   "cell_type": "code",
   "execution_count": 2,
   "metadata": {
    "id": "vso_erSdC4Jo",
    "outputId": "da20dbf1-3086-4fd6-ac92-f7653d7f9f71"
   },
   "outputs": [],
   "source": [
    "data = pd.read_csv('../data/retail_train.csv')\n",
    "item_features = pd.read_csv('../data/product.csv')\n",
    "user_features = pd.read_csv('../data/hh_demographic.csv')\n",
    "\n",
    "# column processing\n",
    "item_features.columns = [col.lower() for col in item_features.columns]\n",
    "user_features.columns = [col.lower() for col in user_features.columns]\n",
    "\n",
    "item_features.rename(columns={'product_id': 'item_id'}, inplace=True)\n",
    "user_features.rename(columns={'household_key': 'user_id'}, inplace=True)"
   ]
  },
  {
   "cell_type": "code",
   "execution_count": 3,
   "metadata": {},
   "outputs": [
    {
     "data": {
      "text/html": [
       "<div>\n",
       "<style scoped>\n",
       "    .dataframe tbody tr th:only-of-type {\n",
       "        vertical-align: middle;\n",
       "    }\n",
       "\n",
       "    .dataframe tbody tr th {\n",
       "        vertical-align: top;\n",
       "    }\n",
       "\n",
       "    .dataframe thead th {\n",
       "        text-align: right;\n",
       "    }\n",
       "</style>\n",
       "<table border=\"1\" class=\"dataframe\">\n",
       "  <thead>\n",
       "    <tr style=\"text-align: right;\">\n",
       "      <th></th>\n",
       "      <th>user_id</th>\n",
       "      <th>basket_id</th>\n",
       "      <th>day</th>\n",
       "      <th>item_id</th>\n",
       "      <th>quantity</th>\n",
       "      <th>sales_value</th>\n",
       "      <th>store_id</th>\n",
       "      <th>retail_disc</th>\n",
       "      <th>trans_time</th>\n",
       "      <th>week_no</th>\n",
       "      <th>coupon_disc</th>\n",
       "      <th>coupon_match_disc</th>\n",
       "    </tr>\n",
       "  </thead>\n",
       "  <tbody>\n",
       "    <tr>\n",
       "      <th>0</th>\n",
       "      <td>2375</td>\n",
       "      <td>26984851472</td>\n",
       "      <td>1</td>\n",
       "      <td>1004906</td>\n",
       "      <td>1</td>\n",
       "      <td>1.39</td>\n",
       "      <td>364</td>\n",
       "      <td>-0.6</td>\n",
       "      <td>1631</td>\n",
       "      <td>1</td>\n",
       "      <td>0.0</td>\n",
       "      <td>0.0</td>\n",
       "    </tr>\n",
       "    <tr>\n",
       "      <th>1</th>\n",
       "      <td>2375</td>\n",
       "      <td>26984851472</td>\n",
       "      <td>1</td>\n",
       "      <td>1033142</td>\n",
       "      <td>1</td>\n",
       "      <td>0.82</td>\n",
       "      <td>364</td>\n",
       "      <td>0.0</td>\n",
       "      <td>1631</td>\n",
       "      <td>1</td>\n",
       "      <td>0.0</td>\n",
       "      <td>0.0</td>\n",
       "    </tr>\n",
       "  </tbody>\n",
       "</table>\n",
       "</div>"
      ],
      "text/plain": [
       "   user_id    basket_id  day  item_id  quantity  sales_value  store_id  \\\n",
       "0     2375  26984851472    1  1004906         1         1.39       364   \n",
       "1     2375  26984851472    1  1033142         1         0.82       364   \n",
       "\n",
       "   retail_disc  trans_time  week_no  coupon_disc  coupon_match_disc  \n",
       "0         -0.6        1631        1          0.0                0.0  \n",
       "1          0.0        1631        1          0.0                0.0  "
      ]
     },
     "execution_count": 3,
     "metadata": {},
     "output_type": "execute_result"
    }
   ],
   "source": [
    "# Важна схема обучения и валидации!\n",
    "# -- давние покупки -- | -- 6 недель -- | -- 3 недель -- \n",
    "# max 95\n",
    "# -- train, < 86 -- / -- val1, 86..92 -- / -- val2, 92+ --\n",
    "# подобрать размер 2-ого датасета (6 недель) --> learning curve (зависимость метрики recall@k от размера датасета)\n",
    "val_lvl_1_size_weeks = 6\n",
    "val_lvl_2_size_weeks = 3\n",
    "\n",
    "data_train_lvl_1 = data[data['week_no'] < data['week_no'].max() - (val_lvl_1_size_weeks + val_lvl_2_size_weeks)]\n",
    "data_val_lvl_1 = data[(data['week_no'] >= data['week_no'].max() - (val_lvl_1_size_weeks + val_lvl_2_size_weeks)) &\n",
    "                      (data['week_no'] < data['week_no'].max() - (val_lvl_2_size_weeks))]\n",
    "\n",
    "data_train_lvl_2 = data_val_lvl_1.copy()  # Для наглядности. Далее мы добавим изменения, и они будут отличаться\n",
    "data_val_lvl_2 = data[data['week_no'] >= data['week_no'].max() - val_lvl_2_size_weeks]\n",
    "\n",
    "data_train_lvl_1.head(2)"
   ]
  },
  {
   "cell_type": "code",
   "execution_count": 4,
   "metadata": {},
   "outputs": [
    {
     "name": "stdout",
     "output_type": "stream",
     "text": [
      "В val1 дата сете 2154 юзеров\n",
      "В val1 дата сете 1 новых юзеров\n",
      "В val2 дата сете 2042 юзеров\n",
      "В val2 дата сете 1 новых юзеров\n"
     ]
    }
   ],
   "source": [
    "val1_users = len(set(data_val_lvl_1['user_id']))\n",
    "new_val1_users = len(set(data_val_lvl_1['user_id']) - set(data_train_lvl_1['user_id']))\n",
    "\n",
    "val2_users = len(set(data_val_lvl_2['user_id']))\n",
    "new_val2_users = len(set(data_val_lvl_2['user_id']) - set(data_train_lvl_1['user_id']))\n",
    "\n",
    "print('В val1 дата сете {} юзеров'.format(val1_users))\n",
    "print('В val1 дата сете {} новых юзеров'.format(new_val1_users))\n",
    "\n",
    "print('В val2 дата сете {} юзеров'.format(val2_users))\n",
    "print('В val2 дата сете {} новых юзеров'.format(new_val2_users))"
   ]
  },
  {
   "cell_type": "code",
   "execution_count": 5,
   "metadata": {},
   "outputs": [],
   "source": [
    "train_users = set(data_train_lvl_1['user_id'])\n",
    "data_val_lvl_1 = data_val_lvl_1[data_val_lvl_1['user_id'].isin(data_train_lvl_1['user_id'])]\n",
    "data_val_lvl_2 = data_val_lvl_2[data_val_lvl_2['user_id'].isin(data_train_lvl_1['user_id'])]"
   ]
  },
  {
   "cell_type": "markdown",
   "metadata": {},
   "source": [
    "### level 1"
   ]
  },
  {
   "cell_type": "code",
   "execution_count": 6,
   "metadata": {
    "id": "zcnV3l4XC4Jp",
    "outputId": "d58f889c-0671-4bb9-b2b6-2dc2e8c24fce"
   },
   "outputs": [
    {
     "name": "stderr",
     "output_type": "stream",
     "text": [
      "C:\\Users\\snetkova\\Anaconda3\\lib\\site-packages\\pandas\\core\\indexing.py:1765: SettingWithCopyWarning: \n",
      "A value is trying to be set on a copy of a slice from a DataFrame.\n",
      "Try using .loc[row_indexer,col_indexer] = value instead\n",
      "\n",
      "See the caveats in the documentation: https://pandas.pydata.org/pandas-docs/stable/user_guide/indexing.html#returning-a-view-versus-a-copy\n",
      "  isetter(loc, value)\n",
      "C:\\Users\\snetkova\\Anaconda3\\lib\\site-packages\\pandas\\core\\indexing.py:1765: SettingWithCopyWarning: \n",
      "A value is trying to be set on a copy of a slice from a DataFrame.\n",
      "Try using .loc[row_indexer,col_indexer] = value instead\n",
      "\n",
      "See the caveats in the documentation: https://pandas.pydata.org/pandas-docs/stable/user_guide/indexing.html#returning-a-view-versus-a-copy\n",
      "  isetter(loc, value)\n",
      "C:\\Users\\snetkova\\Anaconda3\\lib\\site-packages\\pandas\\core\\indexing.py:1765: SettingWithCopyWarning: \n",
      "A value is trying to be set on a copy of a slice from a DataFrame.\n",
      "Try using .loc[row_indexer,col_indexer] = value instead\n",
      "\n",
      "See the caveats in the documentation: https://pandas.pydata.org/pandas-docs/stable/user_guide/indexing.html#returning-a-view-versus-a-copy\n",
      "  isetter(loc, value)\n"
     ]
    },
    {
     "name": "stdout",
     "output_type": "stream",
     "text": [
      "Decreased # items from 83685 to 25072\n"
     ]
    }
   ],
   "source": [
    "n_items_before = data_train_lvl_1['item_id'].nunique() # куплены 9 недель назад и ранее до фильтрации\n",
    "\n",
    "data_train_lvl_1 = prefilter_items(data_train_lvl_1, item_features=item_features)\n",
    "\n",
    "n_items_after = data_train_lvl_1['item_id'].nunique() # куплены 9 недель назад и ранее после фильтрации\n",
    "print('Decreased # items from {} to {}'.format(n_items_before, n_items_after))"
   ]
  },
  {
   "cell_type": "code",
   "execution_count": 7,
   "metadata": {
    "colab": {
     "referenced_widgets": [
      "729d4287bb794971802d9da5e141f10a",
      "32375ef613474af6a0fcadb9255eb835"
     ]
    },
    "id": "zgYXRQ0lC4Jq",
    "outputId": "d9ea41ae-3b4d-41b4-fc46-90868ebb9894"
   },
   "outputs": [
    {
     "name": "stderr",
     "output_type": "stream",
     "text": [
      "WARNING:root:OpenBLAS detected. Its highly recommend to set the environment variable 'export OPENBLAS_NUM_THREADS=1' to disable its internal multithreading\n"
     ]
    },
    {
     "data": {
      "application/vnd.jupyter.widget-view+json": {
       "model_id": "2f61d788e11249f99bd1e0dad89c2007",
       "version_major": 2,
       "version_minor": 0
      },
      "text/plain": [
       "HBox(children=(HTML(value=''), FloatProgress(value=0.0, max=15.0), HTML(value='')))"
      ]
     },
     "metadata": {},
     "output_type": "display_data"
    },
    {
     "name": "stdout",
     "output_type": "stream",
     "text": [
      "\n"
     ]
    },
    {
     "data": {
      "application/vnd.jupyter.widget-view+json": {
       "model_id": "3a3cccd8fe0742ea9db34a7271d09a2e",
       "version_major": 2,
       "version_minor": 0
      },
      "text/plain": [
       "HBox(children=(HTML(value=''), FloatProgress(value=0.0, max=25072.0), HTML(value='')))"
      ]
     },
     "metadata": {},
     "output_type": "display_data"
    },
    {
     "name": "stdout",
     "output_type": "stream",
     "text": [
      "\n"
     ]
    }
   ],
   "source": [
    "recommender = MainRecommender(data_train_lvl_1)"
   ]
  },
  {
   "cell_type": "markdown",
   "metadata": {
    "id": "Bqs9Sw_YC4Jt"
   },
   "source": [
    "#### methods compare"
   ]
  },
  {
   "cell_type": "code",
   "execution_count": 8,
   "metadata": {
    "id": "frt2RzDWC4Jt",
    "outputId": "7c594abf-4a34-406b-9897-8bfbddf69a93"
   },
   "outputs": [
    {
     "data": {
      "text/html": [
       "<div>\n",
       "<style scoped>\n",
       "    .dataframe tbody tr th:only-of-type {\n",
       "        vertical-align: middle;\n",
       "    }\n",
       "\n",
       "    .dataframe tbody tr th {\n",
       "        vertical-align: top;\n",
       "    }\n",
       "\n",
       "    .dataframe thead th {\n",
       "        text-align: right;\n",
       "    }\n",
       "</style>\n",
       "<table border=\"1\" class=\"dataframe\">\n",
       "  <thead>\n",
       "    <tr style=\"text-align: right;\">\n",
       "      <th></th>\n",
       "      <th>user_id</th>\n",
       "      <th>actual</th>\n",
       "    </tr>\n",
       "  </thead>\n",
       "  <tbody>\n",
       "    <tr>\n",
       "      <th>0</th>\n",
       "      <td>1</td>\n",
       "      <td>[853529, 865456, 867607, 872137, 874905, 87524...</td>\n",
       "    </tr>\n",
       "    <tr>\n",
       "      <th>1</th>\n",
       "      <td>2</td>\n",
       "      <td>[15830248, 838136, 839656, 861272, 866211, 870...</td>\n",
       "    </tr>\n",
       "  </tbody>\n",
       "</table>\n",
       "</div>"
      ],
      "text/plain": [
       "   user_id                                             actual\n",
       "0        1  [853529, 865456, 867607, 872137, 874905, 87524...\n",
       "1        2  [15830248, 838136, 839656, 861272, 866211, 870..."
      ]
     },
     "execution_count": 8,
     "metadata": {},
     "output_type": "execute_result"
    }
   ],
   "source": [
    "result_lvl_1 = data_val_lvl_1.groupby('user_id')['item_id'].unique().reset_index()\n",
    "result_lvl_1.columns=['user_id', 'actual']\n",
    "result_lvl_1.head(2)"
   ]
  },
  {
   "cell_type": "code",
   "execution_count": 9,
   "metadata": {
    "id": "xM5W4mU4C4Jt"
   },
   "outputs": [
    {
     "name": "stdout",
     "output_type": "stream",
     "text": [
      "Wall time: 1min 42s\n"
     ]
    },
    {
     "data": {
      "text/html": [
       "<div>\n",
       "<style scoped>\n",
       "    .dataframe tbody tr th:only-of-type {\n",
       "        vertical-align: middle;\n",
       "    }\n",
       "\n",
       "    .dataframe tbody tr th {\n",
       "        vertical-align: top;\n",
       "    }\n",
       "\n",
       "    .dataframe thead th {\n",
       "        text-align: right;\n",
       "    }\n",
       "</style>\n",
       "<table border=\"1\" class=\"dataframe\">\n",
       "  <thead>\n",
       "    <tr style=\"text-align: right;\">\n",
       "      <th></th>\n",
       "      <th>user_id</th>\n",
       "      <th>actual</th>\n",
       "      <th>als_recommendation</th>\n",
       "    </tr>\n",
       "  </thead>\n",
       "  <tbody>\n",
       "    <tr>\n",
       "      <th>0</th>\n",
       "      <td>1</td>\n",
       "      <td>[853529, 865456, 867607, 872137, 874905, 87524...</td>\n",
       "      <td>[1075074, 1006546, 1087232, 819518, 958046, 98...</td>\n",
       "    </tr>\n",
       "    <tr>\n",
       "      <th>1</th>\n",
       "      <td>2</td>\n",
       "      <td>[15830248, 838136, 839656, 861272, 866211, 870...</td>\n",
       "      <td>[903674, 1119879, 971504, 1068719, 866950, 100...</td>\n",
       "    </tr>\n",
       "  </tbody>\n",
       "</table>\n",
       "</div>"
      ],
      "text/plain": [
       "   user_id                                             actual  \\\n",
       "0        1  [853529, 865456, 867607, 872137, 874905, 87524...   \n",
       "1        2  [15830248, 838136, 839656, 861272, 866211, 870...   \n",
       "\n",
       "                                  als_recommendation  \n",
       "0  [1075074, 1006546, 1087232, 819518, 958046, 98...  \n",
       "1  [903674, 1119879, 971504, 1068719, 866950, 100...  "
      ]
     },
     "execution_count": 9,
     "metadata": {},
     "output_type": "execute_result"
    }
   ],
   "source": [
    "%%time\n",
    "result_lvl_1['als_recommendation'] = result_lvl_1['user_id'].apply(lambda x: recommender.get_als_recommendations(x, N=50))\n",
    "result_lvl_1.head(2)"
   ]
  },
  {
   "cell_type": "code",
   "execution_count": 10,
   "metadata": {},
   "outputs": [
    {
     "name": "stdout",
     "output_type": "stream",
     "text": [
      "Wall time: 28 s\n"
     ]
    },
    {
     "data": {
      "text/html": [
       "<div>\n",
       "<style scoped>\n",
       "    .dataframe tbody tr th:only-of-type {\n",
       "        vertical-align: middle;\n",
       "    }\n",
       "\n",
       "    .dataframe tbody tr th {\n",
       "        vertical-align: top;\n",
       "    }\n",
       "\n",
       "    .dataframe thead th {\n",
       "        text-align: right;\n",
       "    }\n",
       "</style>\n",
       "<table border=\"1\" class=\"dataframe\">\n",
       "  <thead>\n",
       "    <tr style=\"text-align: right;\">\n",
       "      <th></th>\n",
       "      <th>user_id</th>\n",
       "      <th>actual</th>\n",
       "      <th>als_recommendation</th>\n",
       "      <th>own_recommendation</th>\n",
       "    </tr>\n",
       "  </thead>\n",
       "  <tbody>\n",
       "    <tr>\n",
       "      <th>0</th>\n",
       "      <td>1</td>\n",
       "      <td>[853529, 865456, 867607, 872137, 874905, 87524...</td>\n",
       "      <td>[1075074, 1006546, 1087232, 819518, 958046, 98...</td>\n",
       "      <td>[1049998, 1006546, 931136, 1055201, 1035805, 9...</td>\n",
       "    </tr>\n",
       "    <tr>\n",
       "      <th>1</th>\n",
       "      <td>2</td>\n",
       "      <td>[15830248, 838136, 839656, 861272, 866211, 870...</td>\n",
       "      <td>[903674, 1119879, 971504, 1068719, 866950, 100...</td>\n",
       "      <td>[826784, 831125, 9365871, 1069575, 889511, 926...</td>\n",
       "    </tr>\n",
       "  </tbody>\n",
       "</table>\n",
       "</div>"
      ],
      "text/plain": [
       "   user_id                                             actual  \\\n",
       "0        1  [853529, 865456, 867607, 872137, 874905, 87524...   \n",
       "1        2  [15830248, 838136, 839656, 861272, 866211, 870...   \n",
       "\n",
       "                                  als_recommendation  \\\n",
       "0  [1075074, 1006546, 1087232, 819518, 958046, 98...   \n",
       "1  [903674, 1119879, 971504, 1068719, 866950, 100...   \n",
       "\n",
       "                                  own_recommendation  \n",
       "0  [1049998, 1006546, 931136, 1055201, 1035805, 9...  \n",
       "1  [826784, 831125, 9365871, 1069575, 889511, 926...  "
      ]
     },
     "execution_count": 10,
     "metadata": {},
     "output_type": "execute_result"
    }
   ],
   "source": [
    "%%time\n",
    "result_lvl_1['own_recommendation'] = result_lvl_1['user_id'].apply(lambda x: recommender.get_own_recommendations(x, N=50))\n",
    "result_lvl_1.head(2)"
   ]
  },
  {
   "cell_type": "code",
   "execution_count": 11,
   "metadata": {},
   "outputs": [],
   "source": [
    "# %%time\n",
    "# result_lvl_1['similar_items_recommendation'] = result_lvl_1['user_id'].apply(lambda x: recommender.get_similar_items_recommendation(x, N=50))\n",
    "# result_lvl_1.head(2)"
   ]
  },
  {
   "cell_type": "code",
   "execution_count": 12,
   "metadata": {},
   "outputs": [],
   "source": [
    "# %%time\n",
    "# result_lvl_1['similar_users_recommendation'] = result_lvl_1['user_id'].apply(lambda x: recommender.get_similar_users_recommendation(x, N=50))\n",
    "# result_lvl_1.head(2)"
   ]
  },
  {
   "cell_type": "code",
   "execution_count": 13,
   "metadata": {},
   "outputs": [
    {
     "data": {
      "text/plain": [
       "0.15401764979098764"
      ]
     },
     "execution_count": 13,
     "metadata": {},
     "output_type": "execute_result"
    }
   ],
   "source": [
    "result_lvl_1.apply(lambda row: precision_at_k(row['als_recommendation'], row['actual']), axis=1).mean()"
   ]
  },
  {
   "cell_type": "code",
   "execution_count": 14,
   "metadata": {},
   "outputs": [
    {
     "data": {
      "text/plain": [
       "0.20260102183000278"
      ]
     },
     "execution_count": 14,
     "metadata": {},
     "output_type": "execute_result"
    }
   ],
   "source": [
    "result_lvl_1.apply(lambda row: precision_at_k(row['own_recommendation'], row['actual']), axis=1).mean()"
   ]
  },
  {
   "cell_type": "code",
   "execution_count": 15,
   "metadata": {},
   "outputs": [],
   "source": [
    "# result_lvl_1.apply(lambda row: precision_at_k(row['similar_items_recommendation'], row['actual']), axis=1).mean()"
   ]
  },
  {
   "cell_type": "code",
   "execution_count": 16,
   "metadata": {},
   "outputs": [],
   "source": [
    "# result_lvl_1.apply(lambda row: precision_at_k(row['similar_users_recommendation'], row['actual']), axis=1).mean()"
   ]
  },
  {
   "cell_type": "code",
   "execution_count": null,
   "metadata": {},
   "outputs": [],
   "source": []
  },
  {
   "cell_type": "code",
   "execution_count": 17,
   "metadata": {},
   "outputs": [
    {
     "data": {
      "text/plain": [
       "0.014482696873896153"
      ]
     },
     "execution_count": 17,
     "metadata": {},
     "output_type": "execute_result"
    }
   ],
   "source": [
    "result_lvl_1.apply(lambda row: recall_at_k(row['als_recommendation'], row['actual']), axis=1).mean()"
   ]
  },
  {
   "cell_type": "code",
   "execution_count": 18,
   "metadata": {},
   "outputs": [
    {
     "data": {
      "text/plain": [
       "0.019474300076327354"
      ]
     },
     "execution_count": 18,
     "metadata": {},
     "output_type": "execute_result"
    }
   ],
   "source": [
    "result_lvl_1.apply(lambda row: recall_at_k(row['own_recommendation'], row['actual']), axis=1).mean()"
   ]
  },
  {
   "cell_type": "code",
   "execution_count": 19,
   "metadata": {},
   "outputs": [],
   "source": [
    "# result_lvl_1.apply(lambda row: recall_at_k(row['similar_items_recommendation'], row['actual']), axis=1).mean()"
   ]
  },
  {
   "cell_type": "code",
   "execution_count": 20,
   "metadata": {},
   "outputs": [],
   "source": [
    "# result_lvl_1.apply(lambda row: recall_at_k(row['similar_users_recommendation'], row['actual']), axis=1).mean()"
   ]
  },
  {
   "cell_type": "markdown",
   "metadata": {},
   "source": [
    "own recommendations + top-popular дали метрики выше"
   ]
  },
  {
   "cell_type": "markdown",
   "metadata": {},
   "source": [
    "#### best k search"
   ]
  },
  {
   "cell_type": "code",
   "execution_count": 21,
   "metadata": {},
   "outputs": [],
   "source": [
    "# res = data_val_lvl_1.groupby('user_id')['item_id'].unique().reset_index()\n",
    "# res.columns=['user_id', 'actual']\n",
    "# res.head(2)"
   ]
  },
  {
   "cell_type": "code",
   "execution_count": 22,
   "metadata": {},
   "outputs": [],
   "source": [
    "# metrics = {}\n",
    "# for k in [50, 100, 200]:\n",
    "#     res['own' + str(k)] = result_lvl_1['user_id'].apply(lambda x: recommender.get_own_recommendations(x, N=k))\n",
    "#     metrics['own' + str(k)] = res.apply(lambda row: recall_at_k(row['own' + str(k)], row['actual'], k), axis=1).mean()\n",
    "# res.head()\n",
    "# metrics"
   ]
  },
  {
   "cell_type": "markdown",
   "metadata": {},
   "source": [
    "С увеличением количества рекомендуемых товаров метрика recall@k растет. Остановимся на 100"
   ]
  },
  {
   "cell_type": "markdown",
   "metadata": {
    "id": "bAHJu3Z5C4Ju"
   },
   "source": [
    "### level 2"
   ]
  },
  {
   "cell_type": "markdown",
   "metadata": {},
   "source": [
    "#### datasets"
   ]
  },
  {
   "cell_type": "code",
   "execution_count": 23,
   "metadata": {},
   "outputs": [],
   "source": [
    "rec_func = recommender.get_own_recommendations\n",
    "score_func = recommender.get_own_scores"
   ]
  },
  {
   "cell_type": "code",
   "execution_count": 24,
   "metadata": {},
   "outputs": [],
   "source": [
    "# Пока только warm start\n",
    "train_users = data_train_lvl_1['user_id'].unique() # data_train_lvl_1!!!"
   ]
  },
  {
   "cell_type": "code",
   "execution_count": 25,
   "metadata": {},
   "outputs": [
    {
     "name": "stdout",
     "output_type": "stream",
     "text": [
      "Wall time: 56.9 s\n"
     ]
    },
    {
     "data": {
      "text/html": [
       "<div>\n",
       "<style scoped>\n",
       "    .dataframe tbody tr th:only-of-type {\n",
       "        vertical-align: middle;\n",
       "    }\n",
       "\n",
       "    .dataframe tbody tr th {\n",
       "        vertical-align: top;\n",
       "    }\n",
       "\n",
       "    .dataframe thead th {\n",
       "        text-align: right;\n",
       "    }\n",
       "</style>\n",
       "<table border=\"1\" class=\"dataframe\">\n",
       "  <thead>\n",
       "    <tr style=\"text-align: right;\">\n",
       "      <th></th>\n",
       "      <th>user_id</th>\n",
       "      <th>item_id</th>\n",
       "      <th>item_score</th>\n",
       "      <th>flag</th>\n",
       "    </tr>\n",
       "  </thead>\n",
       "  <tbody>\n",
       "    <tr>\n",
       "      <th>0</th>\n",
       "      <td>2070</td>\n",
       "      <td>834103</td>\n",
       "      <td>14437.832795</td>\n",
       "      <td>1</td>\n",
       "    </tr>\n",
       "    <tr>\n",
       "      <th>1</th>\n",
       "      <td>2070</td>\n",
       "      <td>878302</td>\n",
       "      <td>14341.921843</td>\n",
       "      <td>1</td>\n",
       "    </tr>\n",
       "  </tbody>\n",
       "</table>\n",
       "</div>"
      ],
      "text/plain": [
       "   user_id  item_id    item_score  flag\n",
       "0     2070   834103  14437.832795     1\n",
       "1     2070   878302  14341.921843     1"
      ]
     },
     "execution_count": 25,
     "metadata": {},
     "output_type": "execute_result"
    }
   ],
   "source": [
    "%%time\n",
    "users_lvl_2 = get_candidates(data_train_lvl_2, rec_func, score_func, train_users, 100)\n",
    "users_lvl_2.head(2)"
   ]
  },
  {
   "cell_type": "code",
   "execution_count": 26,
   "metadata": {},
   "outputs": [
    {
     "name": "stdout",
     "output_type": "stream",
     "text": [
      "Wall time: 52.6 s\n"
     ]
    },
    {
     "data": {
      "text/html": [
       "<div>\n",
       "<style scoped>\n",
       "    .dataframe tbody tr th:only-of-type {\n",
       "        vertical-align: middle;\n",
       "    }\n",
       "\n",
       "    .dataframe tbody tr th {\n",
       "        vertical-align: top;\n",
       "    }\n",
       "\n",
       "    .dataframe thead th {\n",
       "        text-align: right;\n",
       "    }\n",
       "</style>\n",
       "<table border=\"1\" class=\"dataframe\">\n",
       "  <thead>\n",
       "    <tr style=\"text-align: right;\">\n",
       "      <th></th>\n",
       "      <th>user_id</th>\n",
       "      <th>item_id</th>\n",
       "      <th>item_score</th>\n",
       "      <th>flag</th>\n",
       "    </tr>\n",
       "  </thead>\n",
       "  <tbody>\n",
       "    <tr>\n",
       "      <th>0</th>\n",
       "      <td>338</td>\n",
       "      <td>906839</td>\n",
       "      <td>15310.451793</td>\n",
       "      <td>1</td>\n",
       "    </tr>\n",
       "    <tr>\n",
       "      <th>1</th>\n",
       "      <td>338</td>\n",
       "      <td>924760</td>\n",
       "      <td>15096.454315</td>\n",
       "      <td>1</td>\n",
       "    </tr>\n",
       "  </tbody>\n",
       "</table>\n",
       "</div>"
      ],
      "text/plain": [
       "   user_id  item_id    item_score  flag\n",
       "0      338   906839  15310.451793     1\n",
       "1      338   924760  15096.454315     1"
      ]
     },
     "execution_count": 26,
     "metadata": {},
     "output_type": "execute_result"
    }
   ],
   "source": [
    "%%time\n",
    "users_lvl_2_val = get_candidates(data_val_lvl_2, rec_func, score_func, train_users, 100)\n",
    "users_lvl_2_val.head(2)"
   ]
  },
  {
   "cell_type": "code",
   "execution_count": 27,
   "metadata": {},
   "outputs": [
    {
     "data": {
      "text/plain": [
       "(215300, 2153)"
      ]
     },
     "execution_count": 27,
     "metadata": {},
     "output_type": "execute_result"
    }
   ],
   "source": [
    "users_lvl_2.shape[0], users_lvl_2['user_id'].nunique()"
   ]
  },
  {
   "cell_type": "code",
   "execution_count": 28,
   "metadata": {},
   "outputs": [
    {
     "data": {
      "text/plain": [
       "(204100, 2041)"
      ]
     },
     "execution_count": 28,
     "metadata": {},
     "output_type": "execute_result"
    }
   ],
   "source": [
    "users_lvl_2_val.shape[0], users_lvl_2_val['user_id'].nunique()"
   ]
  },
  {
   "cell_type": "code",
   "execution_count": 29,
   "metadata": {},
   "outputs": [
    {
     "data": {
      "text/html": [
       "<div>\n",
       "<style scoped>\n",
       "    .dataframe tbody tr th:only-of-type {\n",
       "        vertical-align: middle;\n",
       "    }\n",
       "\n",
       "    .dataframe tbody tr th {\n",
       "        vertical-align: top;\n",
       "    }\n",
       "\n",
       "    .dataframe thead th {\n",
       "        text-align: right;\n",
       "    }\n",
       "</style>\n",
       "<table border=\"1\" class=\"dataframe\">\n",
       "  <thead>\n",
       "    <tr style=\"text-align: right;\">\n",
       "      <th></th>\n",
       "      <th>user_id</th>\n",
       "      <th>item_id</th>\n",
       "      <th>item_score</th>\n",
       "      <th>target</th>\n",
       "    </tr>\n",
       "  </thead>\n",
       "  <tbody>\n",
       "    <tr>\n",
       "      <th>0</th>\n",
       "      <td>2070</td>\n",
       "      <td>834103</td>\n",
       "      <td>14437.832795</td>\n",
       "      <td>1.0</td>\n",
       "    </tr>\n",
       "    <tr>\n",
       "      <th>1</th>\n",
       "      <td>2070</td>\n",
       "      <td>878302</td>\n",
       "      <td>14341.921843</td>\n",
       "      <td>1.0</td>\n",
       "    </tr>\n",
       "  </tbody>\n",
       "</table>\n",
       "</div>"
      ],
      "text/plain": [
       "   user_id  item_id    item_score  target\n",
       "0     2070   834103  14437.832795     1.0\n",
       "1     2070   878302  14341.921843     1.0"
      ]
     },
     "execution_count": 29,
     "metadata": {},
     "output_type": "execute_result"
    }
   ],
   "source": [
    "targets_lvl_2 = get_base_dataset(data_train_lvl_2, users_lvl_2)\n",
    "targets_lvl_2.head(2)"
   ]
  },
  {
   "cell_type": "code",
   "execution_count": 30,
   "metadata": {},
   "outputs": [
    {
     "data": {
      "text/html": [
       "<div>\n",
       "<style scoped>\n",
       "    .dataframe tbody tr th:only-of-type {\n",
       "        vertical-align: middle;\n",
       "    }\n",
       "\n",
       "    .dataframe tbody tr th {\n",
       "        vertical-align: top;\n",
       "    }\n",
       "\n",
       "    .dataframe thead th {\n",
       "        text-align: right;\n",
       "    }\n",
       "</style>\n",
       "<table border=\"1\" class=\"dataframe\">\n",
       "  <thead>\n",
       "    <tr style=\"text-align: right;\">\n",
       "      <th></th>\n",
       "      <th>user_id</th>\n",
       "      <th>item_id</th>\n",
       "      <th>item_score</th>\n",
       "      <th>target</th>\n",
       "    </tr>\n",
       "  </thead>\n",
       "  <tbody>\n",
       "    <tr>\n",
       "      <th>0</th>\n",
       "      <td>338</td>\n",
       "      <td>906839</td>\n",
       "      <td>15310.451793</td>\n",
       "      <td>0.0</td>\n",
       "    </tr>\n",
       "    <tr>\n",
       "      <th>1</th>\n",
       "      <td>338</td>\n",
       "      <td>924760</td>\n",
       "      <td>15096.454315</td>\n",
       "      <td>0.0</td>\n",
       "    </tr>\n",
       "  </tbody>\n",
       "</table>\n",
       "</div>"
      ],
      "text/plain": [
       "   user_id  item_id    item_score  target\n",
       "0      338   906839  15310.451793     0.0\n",
       "1      338   924760  15096.454315     0.0"
      ]
     },
     "execution_count": 30,
     "metadata": {},
     "output_type": "execute_result"
    }
   ],
   "source": [
    "targets_lvl_2_val = get_base_dataset(data_val_lvl_2, users_lvl_2_val)\n",
    "targets_lvl_2_val.head(2)"
   ]
  },
  {
   "cell_type": "code",
   "execution_count": 31,
   "metadata": {},
   "outputs": [
    {
     "data": {
      "text/plain": [
       "(0.06601021830004644, 0.04979421852033317)"
      ]
     },
     "execution_count": 31,
     "metadata": {},
     "output_type": "execute_result"
    }
   ],
   "source": [
    "targets_lvl_2['target'].mean(), targets_lvl_2_val['target'].mean()"
   ]
  },
  {
   "cell_type": "markdown",
   "metadata": {},
   "source": [
    "#### features"
   ]
  },
  {
   "cell_type": "code",
   "execution_count": 32,
   "metadata": {},
   "outputs": [
    {
     "name": "stderr",
     "output_type": "stream",
     "text": [
      "C:\\Users\\snetkova\\AI_rec_sys\\src\\utils.py:96: FutureWarning: Indexing with multiple keys (implicitly converted to a tuple of keys) will be deprecated, use a list instead.\n",
      "  user_stats = stats.groupby('user_id')['quantity', 'sales_value', 'week_no', 'basket_id'].agg(money = ('sales_value', 'sum'), qty = ('quantity', 'sum'),  bask = ('basket_id', 'nunique'), wk = ('week_no', 'nunique')).reset_index()\n",
      "C:\\Users\\snetkova\\AI_rec_sys\\src\\utils.py:102: FutureWarning: Indexing with multiple keys (implicitly converted to a tuple of keys) will be deprecated, use a list instead.\n",
      "  item_stats = stats.groupby('item_id')['quantity', 'sales_value', 'week_no'].agg(money = ('sales_value', 'sum'), qty = ('quantity', 'sum'), wk = ('week_no', 'nunique')).reset_index()\n"
     ]
    },
    {
     "data": {
      "text/html": [
       "<div>\n",
       "<style scoped>\n",
       "    .dataframe tbody tr th:only-of-type {\n",
       "        vertical-align: middle;\n",
       "    }\n",
       "\n",
       "    .dataframe tbody tr th {\n",
       "        vertical-align: top;\n",
       "    }\n",
       "\n",
       "    .dataframe thead th {\n",
       "        text-align: right;\n",
       "    }\n",
       "</style>\n",
       "<table border=\"1\" class=\"dataframe\">\n",
       "  <thead>\n",
       "    <tr style=\"text-align: right;\">\n",
       "      <th></th>\n",
       "      <th>user_id</th>\n",
       "      <th>item_id</th>\n",
       "      <th>item_score</th>\n",
       "      <th>target</th>\n",
       "      <th>manufacturer</th>\n",
       "      <th>department</th>\n",
       "      <th>brand</th>\n",
       "      <th>commodity_desc</th>\n",
       "      <th>sub_commodity_desc</th>\n",
       "      <th>curr_size_of_product</th>\n",
       "      <th>...</th>\n",
       "      <th>marital_status_code</th>\n",
       "      <th>income_desc</th>\n",
       "      <th>homeowner_desc</th>\n",
       "      <th>hh_comp_desc</th>\n",
       "      <th>household_size_desc</th>\n",
       "      <th>kid_category_desc</th>\n",
       "      <th>avg_bill</th>\n",
       "      <th>weekly_purch</th>\n",
       "      <th>d_qty</th>\n",
       "      <th>m_qty</th>\n",
       "    </tr>\n",
       "  </thead>\n",
       "  <tbody>\n",
       "    <tr>\n",
       "      <th>0</th>\n",
       "      <td>2070</td>\n",
       "      <td>834103</td>\n",
       "      <td>14437.832795</td>\n",
       "      <td>1.0</td>\n",
       "      <td>2224</td>\n",
       "      <td>GROCERY</td>\n",
       "      <td>National</td>\n",
       "      <td>SOFT DRINKS</td>\n",
       "      <td>SFT DRNK SNGL SRV BTL CARB (EX</td>\n",
       "      <td>20 OZ</td>\n",
       "      <td>...</td>\n",
       "      <td>U</td>\n",
       "      <td>50-74K</td>\n",
       "      <td>Unknown</td>\n",
       "      <td>Unknown</td>\n",
       "      <td>1</td>\n",
       "      <td>None/Unknown</td>\n",
       "      <td>12.92937</td>\n",
       "      <td>6.585366</td>\n",
       "      <td>1553.0</td>\n",
       "      <td>95.0</td>\n",
       "    </tr>\n",
       "    <tr>\n",
       "      <th>1</th>\n",
       "      <td>2070</td>\n",
       "      <td>878302</td>\n",
       "      <td>14341.921843</td>\n",
       "      <td>1.0</td>\n",
       "      <td>544</td>\n",
       "      <td>GROCERY</td>\n",
       "      <td>National</td>\n",
       "      <td>BAG SNACKS</td>\n",
       "      <td>SGL SV/VEND MACH SNACKS CHIP/P</td>\n",
       "      <td>1 OZ</td>\n",
       "      <td>...</td>\n",
       "      <td>U</td>\n",
       "      <td>50-74K</td>\n",
       "      <td>Unknown</td>\n",
       "      <td>Unknown</td>\n",
       "      <td>1</td>\n",
       "      <td>None/Unknown</td>\n",
       "      <td>12.92937</td>\n",
       "      <td>6.585366</td>\n",
       "      <td>1553.0</td>\n",
       "      <td>81.0</td>\n",
       "    </tr>\n",
       "  </tbody>\n",
       "</table>\n",
       "<p>2 rows × 23 columns</p>\n",
       "</div>"
      ],
      "text/plain": [
       "   user_id  item_id    item_score  target  manufacturer department     brand  \\\n",
       "0     2070   834103  14437.832795     1.0          2224    GROCERY  National   \n",
       "1     2070   878302  14341.921843     1.0           544    GROCERY  National   \n",
       "\n",
       "  commodity_desc              sub_commodity_desc curr_size_of_product  ...  \\\n",
       "0    SOFT DRINKS  SFT DRNK SNGL SRV BTL CARB (EX                20 OZ  ...   \n",
       "1     BAG SNACKS  SGL SV/VEND MACH SNACKS CHIP/P                 1 OZ  ...   \n",
       "\n",
       "   marital_status_code  income_desc homeowner_desc hh_comp_desc  \\\n",
       "0                    U       50-74K        Unknown      Unknown   \n",
       "1                    U       50-74K        Unknown      Unknown   \n",
       "\n",
       "  household_size_desc kid_category_desc  avg_bill weekly_purch   d_qty  m_qty  \n",
       "0                   1      None/Unknown  12.92937     6.585366  1553.0   95.0  \n",
       "1                   1      None/Unknown  12.92937     6.585366  1553.0   81.0  \n",
       "\n",
       "[2 rows x 23 columns]"
      ]
     },
     "execution_count": 32,
     "metadata": {},
     "output_type": "execute_result"
    }
   ],
   "source": [
    "targets_lvl_2 = add_features(targets_lvl_2, data, item_features, user_features)\n",
    "targets_lvl_2.head(2)"
   ]
  },
  {
   "cell_type": "code",
   "execution_count": 33,
   "metadata": {},
   "outputs": [
    {
     "name": "stderr",
     "output_type": "stream",
     "text": [
      "C:\\Users\\snetkova\\AI_rec_sys\\src\\utils.py:96: FutureWarning: Indexing with multiple keys (implicitly converted to a tuple of keys) will be deprecated, use a list instead.\n",
      "  user_stats = stats.groupby('user_id')['quantity', 'sales_value', 'week_no', 'basket_id'].agg(money = ('sales_value', 'sum'), qty = ('quantity', 'sum'),  bask = ('basket_id', 'nunique'), wk = ('week_no', 'nunique')).reset_index()\n",
      "C:\\Users\\snetkova\\AI_rec_sys\\src\\utils.py:102: FutureWarning: Indexing with multiple keys (implicitly converted to a tuple of keys) will be deprecated, use a list instead.\n",
      "  item_stats = stats.groupby('item_id')['quantity', 'sales_value', 'week_no'].agg(money = ('sales_value', 'sum'), qty = ('quantity', 'sum'), wk = ('week_no', 'nunique')).reset_index()\n"
     ]
    },
    {
     "data": {
      "text/html": [
       "<div>\n",
       "<style scoped>\n",
       "    .dataframe tbody tr th:only-of-type {\n",
       "        vertical-align: middle;\n",
       "    }\n",
       "\n",
       "    .dataframe tbody tr th {\n",
       "        vertical-align: top;\n",
       "    }\n",
       "\n",
       "    .dataframe thead th {\n",
       "        text-align: right;\n",
       "    }\n",
       "</style>\n",
       "<table border=\"1\" class=\"dataframe\">\n",
       "  <thead>\n",
       "    <tr style=\"text-align: right;\">\n",
       "      <th></th>\n",
       "      <th>user_id</th>\n",
       "      <th>item_id</th>\n",
       "      <th>item_score</th>\n",
       "      <th>target</th>\n",
       "      <th>manufacturer</th>\n",
       "      <th>department</th>\n",
       "      <th>brand</th>\n",
       "      <th>commodity_desc</th>\n",
       "      <th>sub_commodity_desc</th>\n",
       "      <th>curr_size_of_product</th>\n",
       "      <th>...</th>\n",
       "      <th>marital_status_code</th>\n",
       "      <th>income_desc</th>\n",
       "      <th>homeowner_desc</th>\n",
       "      <th>hh_comp_desc</th>\n",
       "      <th>household_size_desc</th>\n",
       "      <th>kid_category_desc</th>\n",
       "      <th>avg_bill</th>\n",
       "      <th>weekly_purch</th>\n",
       "      <th>d_qty</th>\n",
       "      <th>m_qty</th>\n",
       "    </tr>\n",
       "  </thead>\n",
       "  <tbody>\n",
       "    <tr>\n",
       "      <th>0</th>\n",
       "      <td>338</td>\n",
       "      <td>906839</td>\n",
       "      <td>15310.451793</td>\n",
       "      <td>0.0</td>\n",
       "      <td>916</td>\n",
       "      <td>GROCERY</td>\n",
       "      <td>National</td>\n",
       "      <td>HISPANIC</td>\n",
       "      <td>CENTRAL AMERICAN FOODS</td>\n",
       "      <td>1.41 OZ</td>\n",
       "      <td>...</td>\n",
       "      <td>NaN</td>\n",
       "      <td>NaN</td>\n",
       "      <td>NaN</td>\n",
       "      <td>NaN</td>\n",
       "      <td>NaN</td>\n",
       "      <td>NaN</td>\n",
       "      <td>17.597969</td>\n",
       "      <td>2.245614</td>\n",
       "      <td>396.0</td>\n",
       "      <td>8.0</td>\n",
       "    </tr>\n",
       "    <tr>\n",
       "      <th>1</th>\n",
       "      <td>338</td>\n",
       "      <td>924760</td>\n",
       "      <td>15096.454315</td>\n",
       "      <td>0.0</td>\n",
       "      <td>69</td>\n",
       "      <td>GROCERY</td>\n",
       "      <td>Private</td>\n",
       "      <td>DRY NOODLES/PASTA</td>\n",
       "      <td>SPAGHETTI DRY</td>\n",
       "      <td>16OZ</td>\n",
       "      <td>...</td>\n",
       "      <td>NaN</td>\n",
       "      <td>NaN</td>\n",
       "      <td>NaN</td>\n",
       "      <td>NaN</td>\n",
       "      <td>NaN</td>\n",
       "      <td>NaN</td>\n",
       "      <td>17.597969</td>\n",
       "      <td>2.245614</td>\n",
       "      <td>396.0</td>\n",
       "      <td>273.0</td>\n",
       "    </tr>\n",
       "  </tbody>\n",
       "</table>\n",
       "<p>2 rows × 23 columns</p>\n",
       "</div>"
      ],
      "text/plain": [
       "   user_id  item_id    item_score  target  manufacturer department     brand  \\\n",
       "0      338   906839  15310.451793     0.0           916    GROCERY  National   \n",
       "1      338   924760  15096.454315     0.0            69    GROCERY   Private   \n",
       "\n",
       "      commodity_desc      sub_commodity_desc curr_size_of_product  ...  \\\n",
       "0           HISPANIC  CENTRAL AMERICAN FOODS              1.41 OZ  ...   \n",
       "1  DRY NOODLES/PASTA           SPAGHETTI DRY                 16OZ  ...   \n",
       "\n",
       "   marital_status_code  income_desc homeowner_desc hh_comp_desc  \\\n",
       "0                  NaN          NaN            NaN          NaN   \n",
       "1                  NaN          NaN            NaN          NaN   \n",
       "\n",
       "  household_size_desc kid_category_desc   avg_bill weekly_purch  d_qty  m_qty  \n",
       "0                 NaN               NaN  17.597969     2.245614  396.0    8.0  \n",
       "1                 NaN               NaN  17.597969     2.245614  396.0  273.0  \n",
       "\n",
       "[2 rows x 23 columns]"
      ]
     },
     "execution_count": 33,
     "metadata": {},
     "output_type": "execute_result"
    }
   ],
   "source": [
    "targets_lvl_2_val = add_features(targets_lvl_2_val, data, item_features, user_features)\n",
    "targets_lvl_2_val.head(2)"
   ]
  },
  {
   "cell_type": "code",
   "execution_count": 34,
   "metadata": {},
   "outputs": [],
   "source": [
    "# производитель, user_id, item_id - категориальные фичи\n",
    "targets_lvl_2[['user_id', 'item_id', 'manufacturer']] = targets_lvl_2[['user_id', 'item_id', 'manufacturer']].astype('category')\n",
    "targets_lvl_2_val[['user_id', 'item_id', 'manufacturer']] = targets_lvl_2_val[['user_id', 'item_id', 'manufacturer']].astype('category')"
   ]
  },
  {
   "cell_type": "code",
   "execution_count": 35,
   "metadata": {},
   "outputs": [
    {
     "name": "stdout",
     "output_type": "stream",
     "text": [
      "<class 'pandas.core.frame.DataFrame'>\n",
      "Int64Index: 215300 entries, 0 to 215299\n",
      "Data columns (total 23 columns):\n",
      " #   Column                Non-Null Count   Dtype   \n",
      "---  ------                --------------   -----   \n",
      " 0   user_id               215300 non-null  category\n",
      " 1   item_id               215300 non-null  category\n",
      " 2   item_score            215300 non-null  float64 \n",
      " 3   target                215300 non-null  float64 \n",
      " 4   manufacturer          215300 non-null  category\n",
      " 5   department            215300 non-null  object  \n",
      " 6   brand                 215300 non-null  object  \n",
      " 7   commodity_desc        215300 non-null  object  \n",
      " 8   sub_commodity_desc    215300 non-null  object  \n",
      " 9   curr_size_of_product  215300 non-null  object  \n",
      " 10  price                 215300 non-null  float64 \n",
      " 11  weekly                215300 non-null  float64 \n",
      " 12  age_desc              79100 non-null   object  \n",
      " 13  marital_status_code   79100 non-null   object  \n",
      " 14  income_desc           79100 non-null   object  \n",
      " 15  homeowner_desc        79100 non-null   object  \n",
      " 16  hh_comp_desc          79100 non-null   object  \n",
      " 17  household_size_desc   79100 non-null   object  \n",
      " 18  kid_category_desc     79100 non-null   object  \n",
      " 19  avg_bill              215300 non-null  float64 \n",
      " 20  weekly_purch          215300 non-null  float64 \n",
      " 21  d_qty                 213777 non-null  float64 \n",
      " 22  m_qty                 211006 non-null  float64 \n",
      "dtypes: category(3), float64(8), object(12)\n",
      "memory usage: 36.3+ MB\n"
     ]
    }
   ],
   "source": [
    "targets_lvl_2.info()"
   ]
  },
  {
   "cell_type": "code",
   "execution_count": 36,
   "metadata": {},
   "outputs": [
    {
     "name": "stdout",
     "output_type": "stream",
     "text": [
      "<class 'pandas.core.frame.DataFrame'>\n",
      "Int64Index: 204100 entries, 0 to 204099\n",
      "Data columns (total 23 columns):\n",
      " #   Column                Non-Null Count   Dtype   \n",
      "---  ------                --------------   -----   \n",
      " 0   user_id               204100 non-null  category\n",
      " 1   item_id               204100 non-null  category\n",
      " 2   item_score            204100 non-null  float64 \n",
      " 3   target                204100 non-null  float64 \n",
      " 4   manufacturer          204100 non-null  category\n",
      " 5   department            204100 non-null  object  \n",
      " 6   brand                 204100 non-null  object  \n",
      " 7   commodity_desc        204100 non-null  object  \n",
      " 8   sub_commodity_desc    204100 non-null  object  \n",
      " 9   curr_size_of_product  204100 non-null  object  \n",
      " 10  price                 204100 non-null  float64 \n",
      " 11  weekly                204100 non-null  float64 \n",
      " 12  age_desc              76400 non-null   object  \n",
      " 13  marital_status_code   76400 non-null   object  \n",
      " 14  income_desc           76400 non-null   object  \n",
      " 15  homeowner_desc        76400 non-null   object  \n",
      " 16  hh_comp_desc          76400 non-null   object  \n",
      " 17  household_size_desc   76400 non-null   object  \n",
      " 18  kid_category_desc     76400 non-null   object  \n",
      " 19  avg_bill              204100 non-null  float64 \n",
      " 20  weekly_purch          204100 non-null  float64 \n",
      " 21  d_qty                 202800 non-null  float64 \n",
      " 22  m_qty                 200373 non-null  float64 \n",
      "dtypes: category(3), float64(8), object(12)\n",
      "memory usage: 34.4+ MB\n"
     ]
    }
   ],
   "source": [
    "targets_lvl_2_val.info()"
   ]
  },
  {
   "cell_type": "code",
   "execution_count": 37,
   "metadata": {},
   "outputs": [],
   "source": [
    "# появились пропуски в d_qty, m_qty - юзеры такого раньше не покупали"
   ]
  },
  {
   "cell_type": "markdown",
   "metadata": {},
   "source": [
    "#### train/test preparation"
   ]
  },
  {
   "cell_type": "code",
   "execution_count": 38,
   "metadata": {},
   "outputs": [],
   "source": [
    "data_train = targets_lvl_2.drop('target', axis=1)\n",
    "y_train = targets_lvl_2[['target']]\n",
    "\n",
    "data_val = targets_lvl_2_val.drop('target', axis=1)\n",
    "y_val = targets_lvl_2_val[['target']]"
   ]
  },
  {
   "cell_type": "code",
   "execution_count": 39,
   "metadata": {},
   "outputs": [
    {
     "data": {
      "text/plain": [
       "(['item_score',\n",
       "  'price',\n",
       "  'weekly',\n",
       "  'avg_bill',\n",
       "  'weekly_purch',\n",
       "  'd_qty',\n",
       "  'm_qty'],\n",
       " ['user_id',\n",
       "  'item_id',\n",
       "  'manufacturer',\n",
       "  'department',\n",
       "  'brand',\n",
       "  'commodity_desc',\n",
       "  'sub_commodity_desc',\n",
       "  'curr_size_of_product',\n",
       "  'age_desc',\n",
       "  'marital_status_code',\n",
       "  'income_desc',\n",
       "  'homeowner_desc',\n",
       "  'hh_comp_desc',\n",
       "  'household_size_desc',\n",
       "  'kid_category_desc'])"
      ]
     },
     "execution_count": 39,
     "metadata": {},
     "output_type": "execute_result"
    }
   ],
   "source": [
    "num_feats = data_train.select_dtypes(include = ['float64', 'int64']).columns.tolist()\n",
    "cat_feats = data_train.select_dtypes(include = ['object', 'category']).columns.tolist()\n",
    "num_feats, cat_feats"
   ]
  },
  {
   "cell_type": "code",
   "execution_count": 40,
   "metadata": {},
   "outputs": [
    {
     "name": "stdout",
     "output_type": "stream",
     "text": [
      "Wall time: 4min 22s\n"
     ]
    }
   ],
   "source": [
    "%%time\n",
    "# будет долго, ~5 мин\n",
    "imp = SimpleImputer(missing_values=np.nan, strategy=\"most_frequent\", verbose = 2)\n",
    "imp_train = pd.DataFrame(imp.fit_transform(data_train))\n",
    "imp_val = pd.DataFrame(imp.transform(data_val))"
   ]
  },
  {
   "cell_type": "code",
   "execution_count": 41,
   "metadata": {},
   "outputs": [
    {
     "data": {
      "text/html": [
       "<div>\n",
       "<style scoped>\n",
       "    .dataframe tbody tr th:only-of-type {\n",
       "        vertical-align: middle;\n",
       "    }\n",
       "\n",
       "    .dataframe tbody tr th {\n",
       "        vertical-align: top;\n",
       "    }\n",
       "\n",
       "    .dataframe thead th {\n",
       "        text-align: right;\n",
       "    }\n",
       "</style>\n",
       "<table border=\"1\" class=\"dataframe\">\n",
       "  <thead>\n",
       "    <tr style=\"text-align: right;\">\n",
       "      <th></th>\n",
       "      <th>user_id</th>\n",
       "      <th>item_id</th>\n",
       "      <th>item_score</th>\n",
       "      <th>manufacturer</th>\n",
       "      <th>department</th>\n",
       "      <th>brand</th>\n",
       "      <th>commodity_desc</th>\n",
       "      <th>sub_commodity_desc</th>\n",
       "      <th>curr_size_of_product</th>\n",
       "      <th>price</th>\n",
       "      <th>...</th>\n",
       "      <th>marital_status_code</th>\n",
       "      <th>income_desc</th>\n",
       "      <th>homeowner_desc</th>\n",
       "      <th>hh_comp_desc</th>\n",
       "      <th>household_size_desc</th>\n",
       "      <th>kid_category_desc</th>\n",
       "      <th>avg_bill</th>\n",
       "      <th>weekly_purch</th>\n",
       "      <th>d_qty</th>\n",
       "      <th>m_qty</th>\n",
       "    </tr>\n",
       "  </thead>\n",
       "  <tbody>\n",
       "    <tr>\n",
       "      <th>0</th>\n",
       "      <td>2070</td>\n",
       "      <td>834103</td>\n",
       "      <td>14437.8</td>\n",
       "      <td>2224</td>\n",
       "      <td>GROCERY</td>\n",
       "      <td>National</td>\n",
       "      <td>SOFT DRINKS</td>\n",
       "      <td>SFT DRNK SNGL SRV BTL CARB (EX</td>\n",
       "      <td>20 OZ</td>\n",
       "      <td>0.00658881</td>\n",
       "      <td>...</td>\n",
       "      <td>U</td>\n",
       "      <td>50-74K</td>\n",
       "      <td>Unknown</td>\n",
       "      <td>Unknown</td>\n",
       "      <td>1</td>\n",
       "      <td>None/Unknown</td>\n",
       "      <td>12.9294</td>\n",
       "      <td>6.58537</td>\n",
       "      <td>1553</td>\n",
       "      <td>95</td>\n",
       "    </tr>\n",
       "    <tr>\n",
       "      <th>1</th>\n",
       "      <td>2070</td>\n",
       "      <td>878302</td>\n",
       "      <td>14341.9</td>\n",
       "      <td>544</td>\n",
       "      <td>GROCERY</td>\n",
       "      <td>National</td>\n",
       "      <td>BAG SNACKS</td>\n",
       "      <td>SGL SV/VEND MACH SNACKS CHIP/P</td>\n",
       "      <td>1 OZ</td>\n",
       "      <td>0.00239048</td>\n",
       "      <td>...</td>\n",
       "      <td>U</td>\n",
       "      <td>50-74K</td>\n",
       "      <td>Unknown</td>\n",
       "      <td>Unknown</td>\n",
       "      <td>1</td>\n",
       "      <td>None/Unknown</td>\n",
       "      <td>12.9294</td>\n",
       "      <td>6.58537</td>\n",
       "      <td>1553</td>\n",
       "      <td>81</td>\n",
       "    </tr>\n",
       "    <tr>\n",
       "      <th>2</th>\n",
       "      <td>2070</td>\n",
       "      <td>1119399</td>\n",
       "      <td>14171.8</td>\n",
       "      <td>69</td>\n",
       "      <td>GROCERY</td>\n",
       "      <td>Private</td>\n",
       "      <td>FLUID MILK PRODUCTS</td>\n",
       "      <td>CHOCOLATE MILK</td>\n",
       "      <td>1 QT</td>\n",
       "      <td>0.00222568</td>\n",
       "      <td>...</td>\n",
       "      <td>U</td>\n",
       "      <td>50-74K</td>\n",
       "      <td>Unknown</td>\n",
       "      <td>Unknown</td>\n",
       "      <td>1</td>\n",
       "      <td>None/Unknown</td>\n",
       "      <td>12.9294</td>\n",
       "      <td>6.58537</td>\n",
       "      <td>1553</td>\n",
       "      <td>623</td>\n",
       "    </tr>\n",
       "    <tr>\n",
       "      <th>3</th>\n",
       "      <td>2070</td>\n",
       "      <td>936508</td>\n",
       "      <td>13728.7</td>\n",
       "      <td>531</td>\n",
       "      <td>GROCERY</td>\n",
       "      <td>National</td>\n",
       "      <td>FLUID MILK PRODUCTS</td>\n",
       "      <td>CHOCOLATE MILK</td>\n",
       "      <td>PT</td>\n",
       "      <td>0.00415287</td>\n",
       "      <td>...</td>\n",
       "      <td>U</td>\n",
       "      <td>50-74K</td>\n",
       "      <td>Unknown</td>\n",
       "      <td>Unknown</td>\n",
       "      <td>1</td>\n",
       "      <td>None/Unknown</td>\n",
       "      <td>12.9294</td>\n",
       "      <td>6.58537</td>\n",
       "      <td>1553</td>\n",
       "      <td>16</td>\n",
       "    </tr>\n",
       "    <tr>\n",
       "      <th>4</th>\n",
       "      <td>2070</td>\n",
       "      <td>1107824</td>\n",
       "      <td>13156.1</td>\n",
       "      <td>544</td>\n",
       "      <td>GROCERY</td>\n",
       "      <td>National</td>\n",
       "      <td>WAREHOUSE SNACKS</td>\n",
       "      <td>SNACK MIX</td>\n",
       "      <td>7.75 OZ</td>\n",
       "      <td>0.00258304</td>\n",
       "      <td>...</td>\n",
       "      <td>U</td>\n",
       "      <td>50-74K</td>\n",
       "      <td>Unknown</td>\n",
       "      <td>Unknown</td>\n",
       "      <td>1</td>\n",
       "      <td>None/Unknown</td>\n",
       "      <td>12.9294</td>\n",
       "      <td>6.58537</td>\n",
       "      <td>1553</td>\n",
       "      <td>81</td>\n",
       "    </tr>\n",
       "  </tbody>\n",
       "</table>\n",
       "<p>5 rows × 22 columns</p>\n",
       "</div>"
      ],
      "text/plain": [
       "  user_id  item_id item_score manufacturer department     brand  \\\n",
       "0    2070   834103    14437.8         2224    GROCERY  National   \n",
       "1    2070   878302    14341.9          544    GROCERY  National   \n",
       "2    2070  1119399    14171.8           69    GROCERY   Private   \n",
       "3    2070   936508    13728.7          531    GROCERY  National   \n",
       "4    2070  1107824    13156.1          544    GROCERY  National   \n",
       "\n",
       "        commodity_desc              sub_commodity_desc curr_size_of_product  \\\n",
       "0          SOFT DRINKS  SFT DRNK SNGL SRV BTL CARB (EX                20 OZ   \n",
       "1           BAG SNACKS  SGL SV/VEND MACH SNACKS CHIP/P                 1 OZ   \n",
       "2  FLUID MILK PRODUCTS                  CHOCOLATE MILK                 1 QT   \n",
       "3  FLUID MILK PRODUCTS                  CHOCOLATE MILK                   PT   \n",
       "4     WAREHOUSE SNACKS                       SNACK MIX              7.75 OZ   \n",
       "\n",
       "        price  ... marital_status_code income_desc homeowner_desc  \\\n",
       "0  0.00658881  ...                   U      50-74K        Unknown   \n",
       "1  0.00239048  ...                   U      50-74K        Unknown   \n",
       "2  0.00222568  ...                   U      50-74K        Unknown   \n",
       "3  0.00415287  ...                   U      50-74K        Unknown   \n",
       "4  0.00258304  ...                   U      50-74K        Unknown   \n",
       "\n",
       "  hh_comp_desc household_size_desc kid_category_desc avg_bill weekly_purch  \\\n",
       "0      Unknown                   1      None/Unknown  12.9294      6.58537   \n",
       "1      Unknown                   1      None/Unknown  12.9294      6.58537   \n",
       "2      Unknown                   1      None/Unknown  12.9294      6.58537   \n",
       "3      Unknown                   1      None/Unknown  12.9294      6.58537   \n",
       "4      Unknown                   1      None/Unknown  12.9294      6.58537   \n",
       "\n",
       "  d_qty m_qty  \n",
       "0  1553    95  \n",
       "1  1553    81  \n",
       "2  1553   623  \n",
       "3  1553    16  \n",
       "4  1553    81  \n",
       "\n",
       "[5 rows x 22 columns]"
      ]
     },
     "execution_count": 41,
     "metadata": {},
     "output_type": "execute_result"
    }
   ],
   "source": [
    "imp_train.columns = data_train.columns\n",
    "imp_val.columns = data_val.columns\n",
    "imp_train.head()"
   ]
  },
  {
   "cell_type": "code",
   "execution_count": 42,
   "metadata": {},
   "outputs": [
    {
     "name": "stdout",
     "output_type": "stream",
     "text": [
      "<class 'pandas.core.frame.DataFrame'>\n",
      "RangeIndex: 215300 entries, 0 to 215299\n",
      "Data columns (total 22 columns):\n",
      " #   Column                Non-Null Count   Dtype   \n",
      "---  ------                --------------   -----   \n",
      " 0   user_id               215300 non-null  category\n",
      " 1   item_id               215300 non-null  category\n",
      " 2   item_score            215300 non-null  float64 \n",
      " 3   manufacturer          215300 non-null  category\n",
      " 4   department            215300 non-null  category\n",
      " 5   brand                 215300 non-null  category\n",
      " 6   commodity_desc        215300 non-null  category\n",
      " 7   sub_commodity_desc    215300 non-null  category\n",
      " 8   curr_size_of_product  215300 non-null  category\n",
      " 9   price                 215300 non-null  float64 \n",
      " 10  weekly                215300 non-null  float64 \n",
      " 11  age_desc              215300 non-null  category\n",
      " 12  marital_status_code   215300 non-null  category\n",
      " 13  income_desc           215300 non-null  category\n",
      " 14  homeowner_desc        215300 non-null  category\n",
      " 15  hh_comp_desc          215300 non-null  category\n",
      " 16  household_size_desc   215300 non-null  category\n",
      " 17  kid_category_desc     215300 non-null  category\n",
      " 18  avg_bill              215300 non-null  float64 \n",
      " 19  weekly_purch          215300 non-null  float64 \n",
      " 20  d_qty                 215300 non-null  float64 \n",
      " 21  m_qty                 215300 non-null  float64 \n",
      "dtypes: category(15), float64(7)\n",
      "memory usage: 16.5 MB\n"
     ]
    }
   ],
   "source": [
    "imp_train[num_feats] = imp_train[num_feats].astype('float64')\n",
    "imp_val[num_feats] = imp_val[num_feats].astype('float64')\n",
    "\n",
    "imp_train[cat_feats] = imp_train[cat_feats].astype('category')\n",
    "imp_val[cat_feats] = imp_val[cat_feats].astype('category')\n",
    "\n",
    "imp_train.info()"
   ]
  },
  {
   "cell_type": "code",
   "execution_count": 43,
   "metadata": {},
   "outputs": [
    {
     "data": {
      "image/png": "[encoded data removed]",
      "text/plain": [
       "<Figure size 432x288 with 1 Axes>"
      ]
     },
     "metadata": {
      "needs_background": "light"
     },
     "output_type": "display_data"
    },
    {
     "data": {
      "image/png": "[encoded data removed]",
      "text/plain": [
       "<Figure size 432x288 with 1 Axes>"
      ]
     },
     "metadata": {
      "needs_background": "light"
     },
     "output_type": "display_data"
    },
    {
     "data": {
      "image/png": "[encoded data removed]",
      "text/plain": [
       "<Figure size 432x288 with 1 Axes>"
      ]
     },
     "metadata": {
      "needs_background": "light"
     },
     "output_type": "display_data"
    },
    {
     "data": {
      "image/png": "[encoded data removed]",
      "text/plain": [
       "<Figure size 432x288 with 1 Axes>"
      ]
     },
     "metadata": {
      "needs_background": "light"
     },
     "output_type": "display_data"
    },
    {
     "data": {
      "image/png": "[encoded data removed]",
      "text/plain": [
       "<Figure size 432x288 with 1 Axes>"
      ]
     },
     "metadata": {
      "needs_background": "light"
     },
     "output_type": "display_data"
    },
    {
     "data": {
      "image/png": "[encoded data removed]",
      "text/plain": [
       "<Figure size 432x288 with 1 Axes>"
      ]
     },
     "metadata": {
      "needs_background": "light"
     },
     "output_type": "display_data"
    },
    {
     "data": {
      "image/png": "[encoded data removed]",
      "text/plain": [
       "<Figure size 432x288 with 1 Axes>"
      ]
     },
     "metadata": {
      "needs_background": "light"
     },
     "output_type": "display_data"
    }
   ],
   "source": [
    "for i in data_train[num_feats]:\n",
    "        sns.kdeplot(data_train.loc[y_train.values == 1,i], label = '1 train')\n",
    "        sns.kdeplot(data_train.loc[y_train.values == 0,i], label ='0 train')\n",
    "        \n",
    "        sns.kdeplot(data_val.loc[y_val.values == 1,i], label = '1 val')\n",
    "        sns.kdeplot(data_val.loc[y_val.values == 0,i], label =  '0 val')\n",
    "        \n",
    "        plt.title(i)\n",
    "        plt.legend()\n",
    "        plt.show()"
   ]
  },
  {
   "cell_type": "markdown",
   "metadata": {},
   "source": [
    "#### model train"
   ]
  },
  {
   "cell_type": "code",
   "execution_count": 44,
   "metadata": {},
   "outputs": [],
   "source": [
    "X_train = imp_train.copy()\n",
    "X_val = imp_val.copy()"
   ]
  },
  {
   "cell_type": "code",
   "execution_count": 45,
   "metadata": {},
   "outputs": [],
   "source": [
    "# model_catb = CatBoostClassifier(silent = True, random_state = 42)"
   ]
  },
  {
   "cell_type": "code",
   "execution_count": 46,
   "metadata": {},
   "outputs": [],
   "source": [
    "# params_catb = {\n",
    "#         'max_depth': [5, 7, 10],\n",
    "#         'min_data_in_leaf': [100, 500, 1000],\n",
    "#         'n_estimators': [100, 500, 1000],\n",
    "#         'learning_rate': list(np.linspace(0.01, 0.20, 6)), #eta\n",
    "#         'reg_lambda': list(np.linspace(0, 15, 6)),\n",
    "#     'grow_policy': ['SymmetricTree', 'Depthwise', 'Lossguide'],\n",
    "#         'num_leaves': list(np.arange(70, 150, 10, dtype=int)),\n",
    "# }"
   ]
  },
  {
   "cell_type": "code",
   "execution_count": 47,
   "metadata": {},
   "outputs": [],
   "source": [
    "# cv = RepeatedStratifiedKFold(n_splits = 5, n_repeats = 5, random_state = 42)\n",
    "# grid_cv = RandomizedSearchCV(model_catb, params_catb, n_jobs = -1, scoring = 'f1', cv = cv, verbose = 10)"
   ]
  },
  {
   "cell_type": "code",
   "execution_count": 48,
   "metadata": {},
   "outputs": [],
   "source": [
    "# %%time\n",
    "# grid_cv.fit(X = X_train, y = y_train, eval_set = (X_val, y_val), cat_features = cat_feats, early_stopping_rounds = 10)"
   ]
  },
  {
   "cell_type": "code",
   "execution_count": 49,
   "metadata": {},
   "outputs": [],
   "source": [
    "# grid_cv.best_params_, grid_cv.best_score_"
   ]
  },
  {
   "cell_type": "code",
   "execution_count": 50,
   "metadata": {},
   "outputs": [],
   "source": [
    "best_params = {'reg_lambda': 10.0,\n",
    "  'num_leaves': 80,\n",
    "  'n_estimators': 500,\n",
    "  'min_data_in_leaf': 100,\n",
    "  'max_depth': 10,\n",
    "  'learning_rate': 0.1711111111111111,\n",
    "  'grow_policy': 'Lossguide'}"
   ]
  },
  {
   "cell_type": "code",
   "execution_count": 51,
   "metadata": {},
   "outputs": [
    {
     "data": {
      "text/plain": [
       "<catboost.core.CatBoostClassifier at 0x1d827eb8148>"
      ]
     },
     "execution_count": 51,
     "metadata": {},
     "output_type": "execute_result"
    }
   ],
   "source": [
    "catb = CatBoostClassifier(random_state = 42, silent = True, **best_params)\n",
    "catb.fit(X_train, y_train, cat_features = cat_feats)"
   ]
  },
  {
   "cell_type": "code",
   "execution_count": 52,
   "metadata": {},
   "outputs": [],
   "source": [
    "train_preds = catb.predict_proba(X_train)[:, 1]\n",
    "val_preds = catb.predict_proba(X_val)[:, 1]"
   ]
  },
  {
   "cell_type": "code",
   "execution_count": 53,
   "metadata": {},
   "outputs": [
    {
     "data": {
      "text/plain": [
       "Index(['user_id', 'item_id', 'item_score', 'manufacturer', 'department',\n",
       "       'brand', 'commodity_desc', 'sub_commodity_desc', 'curr_size_of_product',\n",
       "       'price', 'weekly', 'age_desc', 'marital_status_code', 'income_desc',\n",
       "       'homeowner_desc', 'hh_comp_desc', 'household_size_desc',\n",
       "       'kid_category_desc', 'avg_bill', 'weekly_purch', 'd_qty', 'm_qty'],\n",
       "      dtype='object')"
      ]
     },
     "execution_count": 53,
     "metadata": {},
     "output_type": "execute_result"
    }
   ],
   "source": [
    "X_train.columns"
   ]
  },
  {
   "cell_type": "code",
   "execution_count": 54,
   "metadata": {},
   "outputs": [
    {
     "data": {
      "text/plain": [
       "array([ 7.24661616,  2.80817607, 13.69637587,  1.51975056,  0.55597266,\n",
       "        0.19823478,  1.95696596,  2.62339221,  1.68348064,  5.92270405,\n",
       "        6.952923  ,  0.37430268,  0.40694765,  0.59822595,  0.39233208,\n",
       "        0.35629402,  0.1995087 ,  0.15125762,  4.28886504,  4.09306455,\n",
       "        5.10887465, 38.86573511])"
      ]
     },
     "execution_count": 54,
     "metadata": {},
     "output_type": "execute_result"
    }
   ],
   "source": [
    "catb.feature_importances_"
   ]
  },
  {
   "cell_type": "code",
   "execution_count": 55,
   "metadata": {},
   "outputs": [
    {
     "data": {
      "text/plain": [
       "(0.6868473556204376,\n",
       " 0.5371405549680213,\n",
       " 0.9447298494242693,\n",
       " 0.37524627075710665)"
      ]
     },
     "execution_count": 55,
     "metadata": {},
     "output_type": "execute_result"
    }
   ],
   "source": [
    "model_metrics(y_train, train_preds>0.5)"
   ]
  },
  {
   "cell_type": "code",
   "execution_count": 56,
   "metadata": {},
   "outputs": [
    {
     "data": {
      "text/plain": [
       "(0.6195067850174812,\n",
       " 0.3291090874355219,\n",
       " 0.4664259927797834,\n",
       " 0.2542556331791794)"
      ]
     },
     "execution_count": 56,
     "metadata": {},
     "output_type": "execute_result"
    }
   ],
   "source": [
    "model_metrics(y_val, val_preds>0.5)"
   ]
  },
  {
   "cell_type": "markdown",
   "metadata": {},
   "source": [
    "#### model recs"
   ]
  },
  {
   "cell_type": "code",
   "execution_count": 57,
   "metadata": {},
   "outputs": [],
   "source": [
    "model_recs = get_model_recs(X_val, val_preds, n = 10)"
   ]
  },
  {
   "cell_type": "code",
   "execution_count": null,
   "metadata": {},
   "outputs": [],
   "source": []
  },
  {
   "cell_type": "code",
   "execution_count": 58,
   "metadata": {},
   "outputs": [
    {
     "data": {
      "text/html": [
       "<div>\n",
       "<style scoped>\n",
       "    .dataframe tbody tr th:only-of-type {\n",
       "        vertical-align: middle;\n",
       "    }\n",
       "\n",
       "    .dataframe tbody tr th {\n",
       "        vertical-align: top;\n",
       "    }\n",
       "\n",
       "    .dataframe thead th {\n",
       "        text-align: right;\n",
       "    }\n",
       "</style>\n",
       "<table border=\"1\" class=\"dataframe\">\n",
       "  <thead>\n",
       "    <tr style=\"text-align: right;\">\n",
       "      <th></th>\n",
       "      <th>user_id</th>\n",
       "      <th>actual</th>\n",
       "    </tr>\n",
       "  </thead>\n",
       "  <tbody>\n",
       "    <tr>\n",
       "      <th>0</th>\n",
       "      <td>1</td>\n",
       "      <td>[821867, 834484, 856942, 865456, 889248, 90795...</td>\n",
       "    </tr>\n",
       "    <tr>\n",
       "      <th>1</th>\n",
       "      <td>3</td>\n",
       "      <td>[835476, 851057, 872021, 878302, 879948, 90963...</td>\n",
       "    </tr>\n",
       "  </tbody>\n",
       "</table>\n",
       "</div>"
      ],
      "text/plain": [
       "   user_id                                             actual\n",
       "0        1  [821867, 834484, 856942, 865456, 889248, 90795...\n",
       "1        3  [835476, 851057, 872021, 878302, 879948, 90963..."
      ]
     },
     "execution_count": 58,
     "metadata": {},
     "output_type": "execute_result"
    }
   ],
   "source": [
    "result_lvl_2 = data_val_lvl_2.groupby('user_id')['item_id'].unique().reset_index()\n",
    "result_lvl_2.columns=['user_id', 'actual']\n",
    "result_lvl_2.head(2)"
   ]
  },
  {
   "cell_type": "code",
   "execution_count": 59,
   "metadata": {},
   "outputs": [
    {
     "data": {
      "text/html": [
       "<div>\n",
       "<style scoped>\n",
       "    .dataframe tbody tr th:only-of-type {\n",
       "        vertical-align: middle;\n",
       "    }\n",
       "\n",
       "    .dataframe tbody tr th {\n",
       "        vertical-align: top;\n",
       "    }\n",
       "\n",
       "    .dataframe thead th {\n",
       "        text-align: right;\n",
       "    }\n",
       "</style>\n",
       "<table border=\"1\" class=\"dataframe\">\n",
       "  <thead>\n",
       "    <tr style=\"text-align: right;\">\n",
       "      <th></th>\n",
       "      <th>user_id</th>\n",
       "      <th>actual</th>\n",
       "      <th>own_recommendation</th>\n",
       "    </tr>\n",
       "  </thead>\n",
       "  <tbody>\n",
       "    <tr>\n",
       "      <th>0</th>\n",
       "      <td>1</td>\n",
       "      <td>[821867, 834484, 856942, 865456, 889248, 90795...</td>\n",
       "      <td>[1049998, 1006546, 931136, 1055201, 1035805, 9...</td>\n",
       "    </tr>\n",
       "    <tr>\n",
       "      <th>1</th>\n",
       "      <td>3</td>\n",
       "      <td>[835476, 851057, 872021, 878302, 879948, 90963...</td>\n",
       "      <td>[835476, 932761, 1117473, 864615, 921345, 1080...</td>\n",
       "    </tr>\n",
       "  </tbody>\n",
       "</table>\n",
       "</div>"
      ],
      "text/plain": [
       "   user_id                                             actual  \\\n",
       "0        1  [821867, 834484, 856942, 865456, 889248, 90795...   \n",
       "1        3  [835476, 851057, 872021, 878302, 879948, 90963...   \n",
       "\n",
       "                                  own_recommendation  \n",
       "0  [1049998, 1006546, 931136, 1055201, 1035805, 9...  \n",
       "1  [835476, 932761, 1117473, 864615, 921345, 1080...  "
      ]
     },
     "execution_count": 59,
     "metadata": {},
     "output_type": "execute_result"
    }
   ],
   "source": [
    "result_lvl_2['own_recommendation'] = result_lvl_2['user_id'].apply(lambda x: recommender.get_own_recommendations(x, N=10))\n",
    "result_lvl_2.head(2)"
   ]
  },
  {
   "cell_type": "code",
   "execution_count": 60,
   "metadata": {},
   "outputs": [
    {
     "data": {
      "text/html": [
       "<div>\n",
       "<style scoped>\n",
       "    .dataframe tbody tr th:only-of-type {\n",
       "        vertical-align: middle;\n",
       "    }\n",
       "\n",
       "    .dataframe tbody tr th {\n",
       "        vertical-align: top;\n",
       "    }\n",
       "\n",
       "    .dataframe thead th {\n",
       "        text-align: right;\n",
       "    }\n",
       "</style>\n",
       "<table border=\"1\" class=\"dataframe\">\n",
       "  <thead>\n",
       "    <tr style=\"text-align: right;\">\n",
       "      <th></th>\n",
       "      <th>user_id</th>\n",
       "      <th>actual</th>\n",
       "      <th>own_recommendation</th>\n",
       "      <th>model_recs</th>\n",
       "    </tr>\n",
       "  </thead>\n",
       "  <tbody>\n",
       "    <tr>\n",
       "      <th>0</th>\n",
       "      <td>1</td>\n",
       "      <td>[821867, 834484, 856942, 865456, 889248, 90795...</td>\n",
       "      <td>[1049998, 1006546, 931136, 1055201, 1035805, 9...</td>\n",
       "      <td>[931136, 1006546, 958046, 1075074, 1035805, 10...</td>\n",
       "    </tr>\n",
       "    <tr>\n",
       "      <th>1</th>\n",
       "      <td>3</td>\n",
       "      <td>[835476, 851057, 872021, 878302, 879948, 90963...</td>\n",
       "      <td>[835476, 932761, 1117473, 864615, 921345, 1080...</td>\n",
       "      <td>[921345, 885697, 1101174, 13842214, 901543, 86...</td>\n",
       "    </tr>\n",
       "    <tr>\n",
       "      <th>2</th>\n",
       "      <td>6</td>\n",
       "      <td>[920308, 926804, 946489, 1006718, 1017061, 107...</td>\n",
       "      <td>[849618, 9859112, 9911484, 1119051, 12263184, ...</td>\n",
       "      <td>[1119051, 1037863, 873654, 821083, 9859112, 10...</td>\n",
       "    </tr>\n",
       "    <tr>\n",
       "      <th>3</th>\n",
       "      <td>7</td>\n",
       "      <td>[840386, 889774, 898068, 909714, 929067, 95347...</td>\n",
       "      <td>[1086732, 945627, 1075524, 1082849, 6944571, 9...</td>\n",
       "      <td>[836281, 1079023, 6944571, 1072483, 840386, 84...</td>\n",
       "    </tr>\n",
       "    <tr>\n",
       "      <th>4</th>\n",
       "      <td>8</td>\n",
       "      <td>[835098, 872137, 910439, 924610, 992977, 10412...</td>\n",
       "      <td>[8181377, 1105433, 1116578, 950615, 911703, 84...</td>\n",
       "      <td>[969932, 8181377, 950824, 1116578, 831815, 110...</td>\n",
       "    </tr>\n",
       "  </tbody>\n",
       "</table>\n",
       "</div>"
      ],
      "text/plain": [
       "  user_id                                             actual  \\\n",
       "0       1  [821867, 834484, 856942, 865456, 889248, 90795...   \n",
       "1       3  [835476, 851057, 872021, 878302, 879948, 90963...   \n",
       "2       6  [920308, 926804, 946489, 1006718, 1017061, 107...   \n",
       "3       7  [840386, 889774, 898068, 909714, 929067, 95347...   \n",
       "4       8  [835098, 872137, 910439, 924610, 992977, 10412...   \n",
       "\n",
       "                                  own_recommendation  \\\n",
       "0  [1049998, 1006546, 931136, 1055201, 1035805, 9...   \n",
       "1  [835476, 932761, 1117473, 864615, 921345, 1080...   \n",
       "2  [849618, 9859112, 9911484, 1119051, 12263184, ...   \n",
       "3  [1086732, 945627, 1075524, 1082849, 6944571, 9...   \n",
       "4  [8181377, 1105433, 1116578, 950615, 911703, 84...   \n",
       "\n",
       "                                          model_recs  \n",
       "0  [931136, 1006546, 958046, 1075074, 1035805, 10...  \n",
       "1  [921345, 885697, 1101174, 13842214, 901543, 86...  \n",
       "2  [1119051, 1037863, 873654, 821083, 9859112, 10...  \n",
       "3  [836281, 1079023, 6944571, 1072483, 840386, 84...  \n",
       "4  [969932, 8181377, 950824, 1116578, 831815, 110...  "
      ]
     },
     "execution_count": 60,
     "metadata": {},
     "output_type": "execute_result"
    }
   ],
   "source": [
    "result_lvl_2 = result_lvl_2.merge(model_recs, how = 'left', on = 'user_id')\n",
    "result_lvl_2.head()"
   ]
  },
  {
   "cell_type": "markdown",
   "metadata": {},
   "source": [
    "### final results"
   ]
  },
  {
   "cell_type": "code",
   "execution_count": 61,
   "metadata": {},
   "outputs": [
    {
     "data": {
      "text/plain": [
       "0.15012248897599081"
      ]
     },
     "execution_count": 61,
     "metadata": {},
     "output_type": "execute_result"
    }
   ],
   "source": [
    "result_lvl_2.apply(lambda row: precision_at_k(row['own_recommendation'], row['actual']), axis=1).mean()"
   ]
  },
  {
   "cell_type": "code",
   "execution_count": 62,
   "metadata": {},
   "outputs": [
    {
     "data": {
      "text/plain": [
       "0.2561489465948049"
      ]
     },
     "execution_count": 62,
     "metadata": {},
     "output_type": "execute_result"
    }
   ],
   "source": [
    "result_lvl_2.apply(lambda row: precision_at_k(row['model_recs'], row['actual']), axis=1).mean()"
   ]
  },
  {
   "cell_type": "markdown",
   "metadata": {},
   "source": [
    "После второго уровна precision ощутимо вырос"
   ]
  },
  {
   "cell_type": "markdown",
   "metadata": {},
   "source": [
    "### predictions"
   ]
  },
  {
   "cell_type": "code",
   "execution_count": 63,
   "metadata": {},
   "outputs": [
    {
     "data": {
      "text/html": [
       "<div>\n",
       "<style scoped>\n",
       "    .dataframe tbody tr th:only-of-type {\n",
       "        vertical-align: middle;\n",
       "    }\n",
       "\n",
       "    .dataframe tbody tr th {\n",
       "        vertical-align: top;\n",
       "    }\n",
       "\n",
       "    .dataframe thead th {\n",
       "        text-align: right;\n",
       "    }\n",
       "</style>\n",
       "<table border=\"1\" class=\"dataframe\">\n",
       "  <thead>\n",
       "    <tr style=\"text-align: right;\">\n",
       "      <th></th>\n",
       "      <th>user_id</th>\n",
       "      <th>basket_id</th>\n",
       "      <th>day</th>\n",
       "      <th>item_id</th>\n",
       "      <th>quantity</th>\n",
       "      <th>sales_value</th>\n",
       "      <th>store_id</th>\n",
       "      <th>retail_disc</th>\n",
       "      <th>trans_time</th>\n",
       "      <th>week_no</th>\n",
       "      <th>coupon_disc</th>\n",
       "      <th>coupon_match_disc</th>\n",
       "    </tr>\n",
       "  </thead>\n",
       "  <tbody>\n",
       "    <tr>\n",
       "      <th>0</th>\n",
       "      <td>1340</td>\n",
       "      <td>41652823310</td>\n",
       "      <td>664</td>\n",
       "      <td>912987</td>\n",
       "      <td>1</td>\n",
       "      <td>8.49</td>\n",
       "      <td>446</td>\n",
       "      <td>0.0</td>\n",
       "      <td>52</td>\n",
       "      <td>96</td>\n",
       "      <td>0.0</td>\n",
       "      <td>0.0</td>\n",
       "    </tr>\n",
       "    <tr>\n",
       "      <th>1</th>\n",
       "      <td>588</td>\n",
       "      <td>41652838477</td>\n",
       "      <td>664</td>\n",
       "      <td>1024426</td>\n",
       "      <td>1</td>\n",
       "      <td>6.29</td>\n",
       "      <td>388</td>\n",
       "      <td>0.0</td>\n",
       "      <td>8</td>\n",
       "      <td>96</td>\n",
       "      <td>0.0</td>\n",
       "      <td>0.0</td>\n",
       "    </tr>\n",
       "    <tr>\n",
       "      <th>2</th>\n",
       "      <td>2070</td>\n",
       "      <td>41652857291</td>\n",
       "      <td>664</td>\n",
       "      <td>995242</td>\n",
       "      <td>5</td>\n",
       "      <td>9.10</td>\n",
       "      <td>311</td>\n",
       "      <td>-0.6</td>\n",
       "      <td>46</td>\n",
       "      <td>96</td>\n",
       "      <td>0.0</td>\n",
       "      <td>0.0</td>\n",
       "    </tr>\n",
       "    <tr>\n",
       "      <th>3</th>\n",
       "      <td>1602</td>\n",
       "      <td>41665647035</td>\n",
       "      <td>664</td>\n",
       "      <td>827939</td>\n",
       "      <td>1</td>\n",
       "      <td>7.99</td>\n",
       "      <td>334</td>\n",
       "      <td>0.0</td>\n",
       "      <td>1741</td>\n",
       "      <td>96</td>\n",
       "      <td>0.0</td>\n",
       "      <td>0.0</td>\n",
       "    </tr>\n",
       "    <tr>\n",
       "      <th>4</th>\n",
       "      <td>1602</td>\n",
       "      <td>41665647035</td>\n",
       "      <td>664</td>\n",
       "      <td>927712</td>\n",
       "      <td>1</td>\n",
       "      <td>0.59</td>\n",
       "      <td>334</td>\n",
       "      <td>-0.4</td>\n",
       "      <td>1741</td>\n",
       "      <td>96</td>\n",
       "      <td>0.0</td>\n",
       "      <td>0.0</td>\n",
       "    </tr>\n",
       "  </tbody>\n",
       "</table>\n",
       "</div>"
      ],
      "text/plain": [
       "   user_id    basket_id  day  item_id  quantity  sales_value  store_id  \\\n",
       "0     1340  41652823310  664   912987         1         8.49       446   \n",
       "1      588  41652838477  664  1024426         1         6.29       388   \n",
       "2     2070  41652857291  664   995242         5         9.10       311   \n",
       "3     1602  41665647035  664   827939         1         7.99       334   \n",
       "4     1602  41665647035  664   927712         1         0.59       334   \n",
       "\n",
       "   retail_disc  trans_time  week_no  coupon_disc  coupon_match_disc  \n",
       "0          0.0          52       96          0.0                0.0  \n",
       "1          0.0           8       96          0.0                0.0  \n",
       "2         -0.6          46       96          0.0                0.0  \n",
       "3          0.0        1741       96          0.0                0.0  \n",
       "4         -0.4        1741       96          0.0                0.0  "
      ]
     },
     "execution_count": 63,
     "metadata": {},
     "output_type": "execute_result"
    }
   ],
   "source": [
    "df_test = pd.read_csv('../data/retail_test1.csv')\n",
    "df_test.head()"
   ]
  },
  {
   "cell_type": "code",
   "execution_count": 64,
   "metadata": {},
   "outputs": [],
   "source": [
    "# warm start\n",
    "df_test = df_test[df_test['user_id'].isin(train_users)]"
   ]
  },
  {
   "cell_type": "code",
   "execution_count": 65,
   "metadata": {},
   "outputs": [
    {
     "name": "stdout",
     "output_type": "stream",
     "text": [
      "Wall time: 48.5 s\n"
     ]
    },
    {
     "data": {
      "text/html": [
       "<div>\n",
       "<style scoped>\n",
       "    .dataframe tbody tr th:only-of-type {\n",
       "        vertical-align: middle;\n",
       "    }\n",
       "\n",
       "    .dataframe tbody tr th {\n",
       "        vertical-align: top;\n",
       "    }\n",
       "\n",
       "    .dataframe thead th {\n",
       "        text-align: right;\n",
       "    }\n",
       "</style>\n",
       "<table border=\"1\" class=\"dataframe\">\n",
       "  <thead>\n",
       "    <tr style=\"text-align: right;\">\n",
       "      <th></th>\n",
       "      <th>user_id</th>\n",
       "      <th>item_id</th>\n",
       "      <th>item_score</th>\n",
       "      <th>flag</th>\n",
       "    </tr>\n",
       "  </thead>\n",
       "  <tbody>\n",
       "    <tr>\n",
       "      <th>0</th>\n",
       "      <td>1340</td>\n",
       "      <td>990251</td>\n",
       "      <td>19442.246534</td>\n",
       "      <td>1</td>\n",
       "    </tr>\n",
       "    <tr>\n",
       "      <th>1</th>\n",
       "      <td>1340</td>\n",
       "      <td>1069348</td>\n",
       "      <td>15356.566547</td>\n",
       "      <td>1</td>\n",
       "    </tr>\n",
       "  </tbody>\n",
       "</table>\n",
       "</div>"
      ],
      "text/plain": [
       "   user_id  item_id    item_score  flag\n",
       "0     1340   990251  19442.246534     1\n",
       "1     1340  1069348  15356.566547     1"
      ]
     },
     "execution_count": 65,
     "metadata": {},
     "output_type": "execute_result"
    }
   ],
   "source": [
    "%%time\n",
    "users_final = get_candidates(df_test, rec_func, score_func, train_users, 100)\n",
    "users_final.head(2)"
   ]
  },
  {
   "cell_type": "code",
   "execution_count": 66,
   "metadata": {},
   "outputs": [
    {
     "data": {
      "text/html": [
       "<div>\n",
       "<style scoped>\n",
       "    .dataframe tbody tr th:only-of-type {\n",
       "        vertical-align: middle;\n",
       "    }\n",
       "\n",
       "    .dataframe tbody tr th {\n",
       "        vertical-align: top;\n",
       "    }\n",
       "\n",
       "    .dataframe thead th {\n",
       "        text-align: right;\n",
       "    }\n",
       "</style>\n",
       "<table border=\"1\" class=\"dataframe\">\n",
       "  <thead>\n",
       "    <tr style=\"text-align: right;\">\n",
       "      <th></th>\n",
       "      <th>user_id</th>\n",
       "      <th>item_id</th>\n",
       "      <th>item_score</th>\n",
       "      <th>target</th>\n",
       "    </tr>\n",
       "  </thead>\n",
       "  <tbody>\n",
       "    <tr>\n",
       "      <th>0</th>\n",
       "      <td>1340</td>\n",
       "      <td>990251</td>\n",
       "      <td>19442.246534</td>\n",
       "      <td>0.0</td>\n",
       "    </tr>\n",
       "    <tr>\n",
       "      <th>1</th>\n",
       "      <td>1340</td>\n",
       "      <td>1069348</td>\n",
       "      <td>15356.566547</td>\n",
       "      <td>0.0</td>\n",
       "    </tr>\n",
       "  </tbody>\n",
       "</table>\n",
       "</div>"
      ],
      "text/plain": [
       "   user_id  item_id    item_score  target\n",
       "0     1340   990251  19442.246534     0.0\n",
       "1     1340  1069348  15356.566547     0.0"
      ]
     },
     "execution_count": 66,
     "metadata": {},
     "output_type": "execute_result"
    }
   ],
   "source": [
    "targets_final = get_base_dataset(df_test, users_final)\n",
    "targets_final.head(2)"
   ]
  },
  {
   "cell_type": "code",
   "execution_count": 67,
   "metadata": {},
   "outputs": [
    {
     "data": {
      "text/plain": [
       "0.042940552016985135"
      ]
     },
     "execution_count": 67,
     "metadata": {},
     "output_type": "execute_result"
    }
   ],
   "source": [
    "targets_final['target'].mean()"
   ]
  },
  {
   "cell_type": "code",
   "execution_count": 68,
   "metadata": {},
   "outputs": [
    {
     "name": "stderr",
     "output_type": "stream",
     "text": [
      "C:\\Users\\snetkova\\AI_rec_sys\\src\\utils.py:96: FutureWarning: Indexing with multiple keys (implicitly converted to a tuple of keys) will be deprecated, use a list instead.\n",
      "  user_stats = stats.groupby('user_id')['quantity', 'sales_value', 'week_no', 'basket_id'].agg(money = ('sales_value', 'sum'), qty = ('quantity', 'sum'),  bask = ('basket_id', 'nunique'), wk = ('week_no', 'nunique')).reset_index()\n",
      "C:\\Users\\snetkova\\AI_rec_sys\\src\\utils.py:102: FutureWarning: Indexing with multiple keys (implicitly converted to a tuple of keys) will be deprecated, use a list instead.\n",
      "  item_stats = stats.groupby('item_id')['quantity', 'sales_value', 'week_no'].agg(money = ('sales_value', 'sum'), qty = ('quantity', 'sum'), wk = ('week_no', 'nunique')).reset_index()\n"
     ]
    },
    {
     "data": {
      "text/html": [
       "<div>\n",
       "<style scoped>\n",
       "    .dataframe tbody tr th:only-of-type {\n",
       "        vertical-align: middle;\n",
       "    }\n",
       "\n",
       "    .dataframe tbody tr th {\n",
       "        vertical-align: top;\n",
       "    }\n",
       "\n",
       "    .dataframe thead th {\n",
       "        text-align: right;\n",
       "    }\n",
       "</style>\n",
       "<table border=\"1\" class=\"dataframe\">\n",
       "  <thead>\n",
       "    <tr style=\"text-align: right;\">\n",
       "      <th></th>\n",
       "      <th>user_id</th>\n",
       "      <th>item_id</th>\n",
       "      <th>item_score</th>\n",
       "      <th>target</th>\n",
       "      <th>manufacturer</th>\n",
       "      <th>department</th>\n",
       "      <th>brand</th>\n",
       "      <th>commodity_desc</th>\n",
       "      <th>sub_commodity_desc</th>\n",
       "      <th>curr_size_of_product</th>\n",
       "      <th>...</th>\n",
       "      <th>marital_status_code</th>\n",
       "      <th>income_desc</th>\n",
       "      <th>homeowner_desc</th>\n",
       "      <th>hh_comp_desc</th>\n",
       "      <th>household_size_desc</th>\n",
       "      <th>kid_category_desc</th>\n",
       "      <th>avg_bill</th>\n",
       "      <th>weekly_purch</th>\n",
       "      <th>d_qty</th>\n",
       "      <th>m_qty</th>\n",
       "    </tr>\n",
       "  </thead>\n",
       "  <tbody>\n",
       "    <tr>\n",
       "      <th>0</th>\n",
       "      <td>1340</td>\n",
       "      <td>990251</td>\n",
       "      <td>19442.246534</td>\n",
       "      <td>0.0</td>\n",
       "      <td>69</td>\n",
       "      <td>DRUG GM</td>\n",
       "      <td>Private</td>\n",
       "      <td>EYE AND EAR CARE PRODUCTS</td>\n",
       "      <td>RIGID GAS PERMEABLE</td>\n",
       "      <td>3 OZ</td>\n",
       "      <td>...</td>\n",
       "      <td>NaN</td>\n",
       "      <td>NaN</td>\n",
       "      <td>NaN</td>\n",
       "      <td>NaN</td>\n",
       "      <td>NaN</td>\n",
       "      <td>NaN</td>\n",
       "      <td>8.698462</td>\n",
       "      <td>1.3</td>\n",
       "      <td>35.0</td>\n",
       "      <td>82.0</td>\n",
       "    </tr>\n",
       "    <tr>\n",
       "      <th>1</th>\n",
       "      <td>1340</td>\n",
       "      <td>1069348</td>\n",
       "      <td>15356.566547</td>\n",
       "      <td>0.0</td>\n",
       "      <td>69</td>\n",
       "      <td>GROCERY</td>\n",
       "      <td>Private</td>\n",
       "      <td>CONDIMENTS/SAUCES</td>\n",
       "      <td>BBQ SAUCE</td>\n",
       "      <td>18 OZ</td>\n",
       "      <td>...</td>\n",
       "      <td>NaN</td>\n",
       "      <td>NaN</td>\n",
       "      <td>NaN</td>\n",
       "      <td>NaN</td>\n",
       "      <td>NaN</td>\n",
       "      <td>NaN</td>\n",
       "      <td>8.698462</td>\n",
       "      <td>1.3</td>\n",
       "      <td>108.0</td>\n",
       "      <td>82.0</td>\n",
       "    </tr>\n",
       "  </tbody>\n",
       "</table>\n",
       "<p>2 rows × 23 columns</p>\n",
       "</div>"
      ],
      "text/plain": [
       "   user_id  item_id    item_score  target  manufacturer department    brand  \\\n",
       "0     1340   990251  19442.246534     0.0            69    DRUG GM  Private   \n",
       "1     1340  1069348  15356.566547     0.0            69    GROCERY  Private   \n",
       "\n",
       "              commodity_desc   sub_commodity_desc curr_size_of_product  ...  \\\n",
       "0  EYE AND EAR CARE PRODUCTS  RIGID GAS PERMEABLE                 3 OZ  ...   \n",
       "1          CONDIMENTS/SAUCES            BBQ SAUCE                18 OZ  ...   \n",
       "\n",
       "   marital_status_code  income_desc homeowner_desc hh_comp_desc  \\\n",
       "0                  NaN          NaN            NaN          NaN   \n",
       "1                  NaN          NaN            NaN          NaN   \n",
       "\n",
       "  household_size_desc kid_category_desc  avg_bill weekly_purch  d_qty  m_qty  \n",
       "0                 NaN               NaN  8.698462          1.3   35.0   82.0  \n",
       "1                 NaN               NaN  8.698462          1.3  108.0   82.0  \n",
       "\n",
       "[2 rows x 23 columns]"
      ]
     },
     "execution_count": 68,
     "metadata": {},
     "output_type": "execute_result"
    }
   ],
   "source": [
    "targets_final = add_features(targets_final, data, item_features, user_features)\n",
    "targets_final.head(2)"
   ]
  },
  {
   "cell_type": "code",
   "execution_count": 69,
   "metadata": {},
   "outputs": [],
   "source": [
    "targets_final[['user_id', 'item_id', 'manufacturer']] = targets_final[['user_id', 'item_id', 'manufacturer']].astype('category')"
   ]
  },
  {
   "cell_type": "code",
   "execution_count": 70,
   "metadata": {},
   "outputs": [
    {
     "name": "stdout",
     "output_type": "stream",
     "text": [
      "<class 'pandas.core.frame.DataFrame'>\n",
      "Int64Index: 188400 entries, 0 to 188399\n",
      "Data columns (total 23 columns):\n",
      " #   Column                Non-Null Count   Dtype   \n",
      "---  ------                --------------   -----   \n",
      " 0   user_id               188400 non-null  category\n",
      " 1   item_id               188400 non-null  category\n",
      " 2   item_score            188400 non-null  float64 \n",
      " 3   target                188400 non-null  float64 \n",
      " 4   manufacturer          188400 non-null  category\n",
      " 5   department            188400 non-null  object  \n",
      " 6   brand                 188400 non-null  object  \n",
      " 7   commodity_desc        188400 non-null  object  \n",
      " 8   sub_commodity_desc    188400 non-null  object  \n",
      " 9   curr_size_of_product  188400 non-null  object  \n",
      " 10  price                 188400 non-null  float64 \n",
      " 11  weekly                188400 non-null  float64 \n",
      " 12  age_desc              74800 non-null   object  \n",
      " 13  marital_status_code   74800 non-null   object  \n",
      " 14  income_desc           74800 non-null   object  \n",
      " 15  homeowner_desc        74800 non-null   object  \n",
      " 16  hh_comp_desc          74800 non-null   object  \n",
      " 17  household_size_desc   74800 non-null   object  \n",
      " 18  kid_category_desc     74800 non-null   object  \n",
      " 19  avg_bill              188400 non-null  float64 \n",
      " 20  weekly_purch          188400 non-null  float64 \n",
      " 21  d_qty                 187065 non-null  float64 \n",
      " 22  m_qty                 185071 non-null  float64 \n",
      "dtypes: category(3), float64(8), object(12)\n",
      "memory usage: 31.8+ MB\n"
     ]
    }
   ],
   "source": [
    "targets_final.info()"
   ]
  },
  {
   "cell_type": "code",
   "execution_count": 71,
   "metadata": {},
   "outputs": [],
   "source": [
    "data_test = targets_final.drop('target', axis=1)\n",
    "y_test = targets_final[['target']]"
   ]
  },
  {
   "cell_type": "code",
   "execution_count": 72,
   "metadata": {},
   "outputs": [
    {
     "data": {
      "text/html": [
       "<div>\n",
       "<style scoped>\n",
       "    .dataframe tbody tr th:only-of-type {\n",
       "        vertical-align: middle;\n",
       "    }\n",
       "\n",
       "    .dataframe tbody tr th {\n",
       "        vertical-align: top;\n",
       "    }\n",
       "\n",
       "    .dataframe thead th {\n",
       "        text-align: right;\n",
       "    }\n",
       "</style>\n",
       "<table border=\"1\" class=\"dataframe\">\n",
       "  <thead>\n",
       "    <tr style=\"text-align: right;\">\n",
       "      <th></th>\n",
       "      <th>user_id</th>\n",
       "      <th>item_id</th>\n",
       "      <th>item_score</th>\n",
       "      <th>manufacturer</th>\n",
       "      <th>department</th>\n",
       "      <th>brand</th>\n",
       "      <th>commodity_desc</th>\n",
       "      <th>sub_commodity_desc</th>\n",
       "      <th>curr_size_of_product</th>\n",
       "      <th>price</th>\n",
       "      <th>...</th>\n",
       "      <th>marital_status_code</th>\n",
       "      <th>income_desc</th>\n",
       "      <th>homeowner_desc</th>\n",
       "      <th>hh_comp_desc</th>\n",
       "      <th>household_size_desc</th>\n",
       "      <th>kid_category_desc</th>\n",
       "      <th>avg_bill</th>\n",
       "      <th>weekly_purch</th>\n",
       "      <th>d_qty</th>\n",
       "      <th>m_qty</th>\n",
       "    </tr>\n",
       "  </thead>\n",
       "  <tbody>\n",
       "    <tr>\n",
       "      <th>0</th>\n",
       "      <td>1340</td>\n",
       "      <td>990251</td>\n",
       "      <td>19442.2</td>\n",
       "      <td>69</td>\n",
       "      <td>DRUG GM</td>\n",
       "      <td>Private</td>\n",
       "      <td>EYE AND EAR CARE PRODUCTS</td>\n",
       "      <td>RIGID GAS PERMEABLE</td>\n",
       "      <td>3 OZ</td>\n",
       "      <td>0.00148738</td>\n",
       "      <td>...</td>\n",
       "      <td>U</td>\n",
       "      <td>50-74K</td>\n",
       "      <td>Homeowner</td>\n",
       "      <td>2 Adults No Kids</td>\n",
       "      <td>2</td>\n",
       "      <td>None/Unknown</td>\n",
       "      <td>8.69846</td>\n",
       "      <td>1.3</td>\n",
       "      <td>35</td>\n",
       "      <td>82</td>\n",
       "    </tr>\n",
       "    <tr>\n",
       "      <th>1</th>\n",
       "      <td>1340</td>\n",
       "      <td>1069348</td>\n",
       "      <td>15356.6</td>\n",
       "      <td>69</td>\n",
       "      <td>GROCERY</td>\n",
       "      <td>Private</td>\n",
       "      <td>CONDIMENTS/SAUCES</td>\n",
       "      <td>BBQ SAUCE</td>\n",
       "      <td>18 OZ</td>\n",
       "      <td>0.000647788</td>\n",
       "      <td>...</td>\n",
       "      <td>U</td>\n",
       "      <td>50-74K</td>\n",
       "      <td>Homeowner</td>\n",
       "      <td>2 Adults No Kids</td>\n",
       "      <td>2</td>\n",
       "      <td>None/Unknown</td>\n",
       "      <td>8.69846</td>\n",
       "      <td>1.3</td>\n",
       "      <td>108</td>\n",
       "      <td>82</td>\n",
       "    </tr>\n",
       "    <tr>\n",
       "      <th>2</th>\n",
       "      <td>1340</td>\n",
       "      <td>960884</td>\n",
       "      <td>12023.7</td>\n",
       "      <td>69</td>\n",
       "      <td>GROCERY</td>\n",
       "      <td>Private</td>\n",
       "      <td>HISPANIC</td>\n",
       "      <td>ORIENTAL OTHER SAUCES MARINAD</td>\n",
       "      <td>10 OZ</td>\n",
       "      <td>0.000644652</td>\n",
       "      <td>...</td>\n",
       "      <td>U</td>\n",
       "      <td>50-74K</td>\n",
       "      <td>Homeowner</td>\n",
       "      <td>2 Adults No Kids</td>\n",
       "      <td>2</td>\n",
       "      <td>None/Unknown</td>\n",
       "      <td>8.69846</td>\n",
       "      <td>1.3</td>\n",
       "      <td>108</td>\n",
       "      <td>82</td>\n",
       "    </tr>\n",
       "    <tr>\n",
       "      <th>3</th>\n",
       "      <td>1340</td>\n",
       "      <td>982153</td>\n",
       "      <td>11536.1</td>\n",
       "      <td>321</td>\n",
       "      <td>DRUG GM</td>\n",
       "      <td>National</td>\n",
       "      <td>BROOMS AND MOPS</td>\n",
       "      <td>SCOURING PADS &amp; CLOTH</td>\n",
       "      <td></td>\n",
       "      <td>0.000717941</td>\n",
       "      <td>...</td>\n",
       "      <td>U</td>\n",
       "      <td>50-74K</td>\n",
       "      <td>Homeowner</td>\n",
       "      <td>2 Adults No Kids</td>\n",
       "      <td>2</td>\n",
       "      <td>None/Unknown</td>\n",
       "      <td>8.69846</td>\n",
       "      <td>1.3</td>\n",
       "      <td>35</td>\n",
       "      <td>1</td>\n",
       "    </tr>\n",
       "    <tr>\n",
       "      <th>4</th>\n",
       "      <td>1340</td>\n",
       "      <td>6773215</td>\n",
       "      <td>11431.2</td>\n",
       "      <td>69</td>\n",
       "      <td>GROCERY</td>\n",
       "      <td>Private</td>\n",
       "      <td>FROZEN PIZZA</td>\n",
       "      <td>PIZZA/ECONOMY</td>\n",
       "      <td>6.5 OZ</td>\n",
       "      <td>0.00199928</td>\n",
       "      <td>...</td>\n",
       "      <td>U</td>\n",
       "      <td>50-74K</td>\n",
       "      <td>Homeowner</td>\n",
       "      <td>2 Adults No Kids</td>\n",
       "      <td>2</td>\n",
       "      <td>None/Unknown</td>\n",
       "      <td>8.69846</td>\n",
       "      <td>1.3</td>\n",
       "      <td>108</td>\n",
       "      <td>82</td>\n",
       "    </tr>\n",
       "  </tbody>\n",
       "</table>\n",
       "<p>5 rows × 22 columns</p>\n",
       "</div>"
      ],
      "text/plain": [
       "  user_id  item_id item_score manufacturer department     brand  \\\n",
       "0    1340   990251    19442.2           69    DRUG GM   Private   \n",
       "1    1340  1069348    15356.6           69    GROCERY   Private   \n",
       "2    1340   960884    12023.7           69    GROCERY   Private   \n",
       "3    1340   982153    11536.1          321    DRUG GM  National   \n",
       "4    1340  6773215    11431.2           69    GROCERY   Private   \n",
       "\n",
       "              commodity_desc             sub_commodity_desc  \\\n",
       "0  EYE AND EAR CARE PRODUCTS            RIGID GAS PERMEABLE   \n",
       "1          CONDIMENTS/SAUCES                      BBQ SAUCE   \n",
       "2                   HISPANIC  ORIENTAL OTHER SAUCES MARINAD   \n",
       "3            BROOMS AND MOPS          SCOURING PADS & CLOTH   \n",
       "4               FROZEN PIZZA                  PIZZA/ECONOMY   \n",
       "\n",
       "  curr_size_of_product        price  ... marital_status_code income_desc  \\\n",
       "0                 3 OZ   0.00148738  ...                   U      50-74K   \n",
       "1                18 OZ  0.000647788  ...                   U      50-74K   \n",
       "2                10 OZ  0.000644652  ...                   U      50-74K   \n",
       "3                       0.000717941  ...                   U      50-74K   \n",
       "4               6.5 OZ   0.00199928  ...                   U      50-74K   \n",
       "\n",
       "  homeowner_desc      hh_comp_desc household_size_desc kid_category_desc  \\\n",
       "0      Homeowner  2 Adults No Kids                   2      None/Unknown   \n",
       "1      Homeowner  2 Adults No Kids                   2      None/Unknown   \n",
       "2      Homeowner  2 Adults No Kids                   2      None/Unknown   \n",
       "3      Homeowner  2 Adults No Kids                   2      None/Unknown   \n",
       "4      Homeowner  2 Adults No Kids                   2      None/Unknown   \n",
       "\n",
       "  avg_bill weekly_purch d_qty m_qty  \n",
       "0  8.69846          1.3    35    82  \n",
       "1  8.69846          1.3   108    82  \n",
       "2  8.69846          1.3   108    82  \n",
       "3  8.69846          1.3    35     1  \n",
       "4  8.69846          1.3   108    82  \n",
       "\n",
       "[5 rows x 22 columns]"
      ]
     },
     "execution_count": 72,
     "metadata": {},
     "output_type": "execute_result"
    }
   ],
   "source": [
    "imp_test = pd.DataFrame(imp.transform(data_test))\n",
    "imp_test.columns = data_test.columns\n",
    "imp_test.head()"
   ]
  },
  {
   "cell_type": "code",
   "execution_count": 73,
   "metadata": {},
   "outputs": [],
   "source": [
    "imp_test[num_feats] = imp_test[num_feats].astype('float64')\n",
    "imp_test[cat_feats] = imp_test[cat_feats].astype('category')"
   ]
  },
  {
   "cell_type": "code",
   "execution_count": 74,
   "metadata": {},
   "outputs": [
    {
     "name": "stdout",
     "output_type": "stream",
     "text": [
      "<class 'pandas.core.frame.DataFrame'>\n",
      "RangeIndex: 188400 entries, 0 to 188399\n",
      "Data columns (total 22 columns):\n",
      " #   Column                Non-Null Count   Dtype   \n",
      "---  ------                --------------   -----   \n",
      " 0   user_id               188400 non-null  category\n",
      " 1   item_id               188400 non-null  category\n",
      " 2   item_score            188400 non-null  float64 \n",
      " 3   manufacturer          188400 non-null  category\n",
      " 4   department            188400 non-null  category\n",
      " 5   brand                 188400 non-null  category\n",
      " 6   commodity_desc        188400 non-null  category\n",
      " 7   sub_commodity_desc    188400 non-null  category\n",
      " 8   curr_size_of_product  188400 non-null  category\n",
      " 9   price                 188400 non-null  float64 \n",
      " 10  weekly                188400 non-null  float64 \n",
      " 11  age_desc              188400 non-null  category\n",
      " 12  marital_status_code   188400 non-null  category\n",
      " 13  income_desc           188400 non-null  category\n",
      " 14  homeowner_desc        188400 non-null  category\n",
      " 15  hh_comp_desc          188400 non-null  category\n",
      " 16  household_size_desc   188400 non-null  category\n",
      " 17  kid_category_desc     188400 non-null  category\n",
      " 18  avg_bill              188400 non-null  float64 \n",
      " 19  weekly_purch          188400 non-null  float64 \n",
      " 20  d_qty                 188400 non-null  float64 \n",
      " 21  m_qty                 188400 non-null  float64 \n",
      "dtypes: category(15), float64(7)\n",
      "memory usage: 14.5 MB\n"
     ]
    }
   ],
   "source": [
    "imp_test.info()"
   ]
  },
  {
   "cell_type": "code",
   "execution_count": 75,
   "metadata": {},
   "outputs": [],
   "source": [
    "test_preds = catb.predict_proba(imp_test)[:, 1]"
   ]
  },
  {
   "cell_type": "code",
   "execution_count": 76,
   "metadata": {},
   "outputs": [
    {
     "data": {
      "text/plain": [
       "(0.6148436023414969,\n",
       " 0.2981311183625037,\n",
       " 0.37263626251390436,\n",
       " 0.2484548825710754)"
      ]
     },
     "execution_count": 76,
     "metadata": {},
     "output_type": "execute_result"
    }
   ],
   "source": [
    "model_metrics(y_test, test_preds>0.5)"
   ]
  },
  {
   "cell_type": "code",
   "execution_count": 77,
   "metadata": {},
   "outputs": [],
   "source": [
    "test_recs = get_model_recs(imp_test, test_preds, n = 10)"
   ]
  },
  {
   "cell_type": "code",
   "execution_count": 78,
   "metadata": {},
   "outputs": [
    {
     "data": {
      "text/html": [
       "<div>\n",
       "<style scoped>\n",
       "    .dataframe tbody tr th:only-of-type {\n",
       "        vertical-align: middle;\n",
       "    }\n",
       "\n",
       "    .dataframe tbody tr th {\n",
       "        vertical-align: top;\n",
       "    }\n",
       "\n",
       "    .dataframe thead th {\n",
       "        text-align: right;\n",
       "    }\n",
       "</style>\n",
       "<table border=\"1\" class=\"dataframe\">\n",
       "  <thead>\n",
       "    <tr style=\"text-align: right;\">\n",
       "      <th></th>\n",
       "      <th>user_id</th>\n",
       "      <th>actual</th>\n",
       "    </tr>\n",
       "  </thead>\n",
       "  <tbody>\n",
       "    <tr>\n",
       "      <th>0</th>\n",
       "      <td>1</td>\n",
       "      <td>[880007, 883616, 931136, 938004, 940947, 94726...</td>\n",
       "    </tr>\n",
       "    <tr>\n",
       "      <th>1</th>\n",
       "      <td>2</td>\n",
       "      <td>[820165, 820291, 826784, 826835, 829009, 85784...</td>\n",
       "    </tr>\n",
       "  </tbody>\n",
       "</table>\n",
       "</div>"
      ],
      "text/plain": [
       "   user_id                                             actual\n",
       "0        1  [880007, 883616, 931136, 938004, 940947, 94726...\n",
       "1        2  [820165, 820291, 826784, 826835, 829009, 85784..."
      ]
     },
     "execution_count": 78,
     "metadata": {},
     "output_type": "execute_result"
    }
   ],
   "source": [
    "result_test = df_test.groupby('user_id')['item_id'].unique().reset_index()\n",
    "result_test.columns=['user_id', 'actual']\n",
    "result_test.head(2)"
   ]
  },
  {
   "cell_type": "code",
   "execution_count": 79,
   "metadata": {},
   "outputs": [
    {
     "data": {
      "text/html": [
       "<div>\n",
       "<style scoped>\n",
       "    .dataframe tbody tr th:only-of-type {\n",
       "        vertical-align: middle;\n",
       "    }\n",
       "\n",
       "    .dataframe tbody tr th {\n",
       "        vertical-align: top;\n",
       "    }\n",
       "\n",
       "    .dataframe thead th {\n",
       "        text-align: right;\n",
       "    }\n",
       "</style>\n",
       "<table border=\"1\" class=\"dataframe\">\n",
       "  <thead>\n",
       "    <tr style=\"text-align: right;\">\n",
       "      <th></th>\n",
       "      <th>user_id</th>\n",
       "      <th>actual</th>\n",
       "      <th>model_recs</th>\n",
       "    </tr>\n",
       "  </thead>\n",
       "  <tbody>\n",
       "    <tr>\n",
       "      <th>0</th>\n",
       "      <td>1</td>\n",
       "      <td>[880007, 883616, 931136, 938004, 940947, 94726...</td>\n",
       "      <td>[931136, 1006546, 958046, 1075074, 1035805, 10...</td>\n",
       "    </tr>\n",
       "    <tr>\n",
       "      <th>1</th>\n",
       "      <td>2</td>\n",
       "      <td>[820165, 820291, 826784, 826835, 829009, 85784...</td>\n",
       "      <td>[838136, 915041, 1035843, 1069575, 881047, 831...</td>\n",
       "    </tr>\n",
       "  </tbody>\n",
       "</table>\n",
       "</div>"
      ],
      "text/plain": [
       "  user_id                                             actual  \\\n",
       "0       1  [880007, 883616, 931136, 938004, 940947, 94726...   \n",
       "1       2  [820165, 820291, 826784, 826835, 829009, 85784...   \n",
       "\n",
       "                                          model_recs  \n",
       "0  [931136, 1006546, 958046, 1075074, 1035805, 10...  \n",
       "1  [838136, 915041, 1035843, 1069575, 881047, 831...  "
      ]
     },
     "execution_count": 79,
     "metadata": {},
     "output_type": "execute_result"
    }
   ],
   "source": [
    "result_test = result_test.merge(test_recs, how = 'left', on = 'user_id')\n",
    "result_test.head(2)"
   ]
  },
  {
   "cell_type": "code",
   "execution_count": 80,
   "metadata": {},
   "outputs": [
    {
     "data": {
      "text/plain": [
       "0.21464968152866043"
      ]
     },
     "execution_count": 80,
     "metadata": {},
     "output_type": "execute_result"
    }
   ],
   "source": [
    "result_test.apply(lambda row: precision_at_k(row['model_recs'], row['actual']), axis=1).mean()"
   ]
  },
  {
   "cell_type": "code",
   "execution_count": null,
   "metadata": {},
   "outputs": [],
   "source": []
  }
 ],
 "metadata": {
  "colab": {
   "name": "hw_webinar_6.ipynb",
   "provenance": []
  },
  "kernelspec": {
   "display_name": "Python 3",
   "language": "python",
   "name": "python3"
  },
  "language_info": {
   "codemirror_mode": {
    "name": "ipython",
    "version": 3
   },
   "file_extension": ".py",
   "mimetype": "text/x-python",
   "name": "python",
   "nbconvert_exporter": "python",
   "pygments_lexer": "ipython3",
   "version": "3.7.9"
  }
 },
 "nbformat": 4,
 "nbformat_minor": 1
}
